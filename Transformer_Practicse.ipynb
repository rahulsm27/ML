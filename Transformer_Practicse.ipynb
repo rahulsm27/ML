{
  "nbformat": 4,
  "nbformat_minor": 0,
  "metadata": {
    "colab": {
      "provenance": [],
      "authorship_tag": "ABX9TyP897Dv1ZiycAPHVmDVGjr5",
      "include_colab_link": true
    },
    "kernelspec": {
      "name": "python3",
      "display_name": "Python 3"
    },
    "language_info": {
      "name": "python"
    }
  },
  "cells": [
    {
      "cell_type": "markdown",
      "metadata": {
        "id": "view-in-github",
        "colab_type": "text"
      },
      "source": [
        "<a href=\"https://colab.research.google.com/github/rahulsm27/ML/blob/main/Transformer_Practicse.ipynb\" target=\"_parent\"><img src=\"https://colab.research.google.com/assets/colab-badge.svg\" alt=\"Open In Colab\"/></a>"
      ]
    },
    {
      "cell_type": "code",
      "execution_count": null,
      "metadata": {
        "id": "9O3ODGeBY-N1"
      },
      "outputs": [],
      "source": [
        "# Chapter 2 Text Classification"
      ]
    },
    {
      "cell_type": "code",
      "source": [
        "# Transformer practicse"
      ],
      "metadata": {
        "id": "mBbLpoCnZFm3"
      },
      "execution_count": null,
      "outputs": []
    }
  ]
}