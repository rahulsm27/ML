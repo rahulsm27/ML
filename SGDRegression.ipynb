{
  "nbformat": 4,
  "nbformat_minor": 0,
  "metadata": {
    "colab": {
      "provenance": [],
      "authorship_tag": "ABX9TyNBIchwkEphuugu1jM5gpGU",
      "include_colab_link": true
    },
    "kernelspec": {
      "name": "python3",
      "display_name": "Python 3"
    },
    "language_info": {
      "name": "python"
    }
  },
  "cells": [
    {
      "cell_type": "markdown",
      "metadata": {
        "id": "view-in-github",
        "colab_type": "text"
      },
      "source": [
        "<a href=\"https://colab.research.google.com/github/rahulsm27/ML/blob/main/SGDRegression.ipynb\" target=\"_parent\"><img src=\"https://colab.research.google.com/assets/colab-badge.svg\" alt=\"Open In Colab\"/></a>"
      ]
    },
    {
      "cell_type": "code",
      "execution_count": 3,
      "metadata": {
        "id": "7eTLFCKA-7at"
      },
      "outputs": [],
      "source": [
        "from sklearn.linear_model import SGDRegressor\n",
        "X = [[4,0],[1,2],[3,1],[3,4],[5,6],[7,8],[9,0],[5,1]]\n",
        "y = [0,1,2,3,8,2,6,7]\n",
        "\n"
      ]
    },
    {
      "cell_type": "code",
      "source": [
        "clf =SGDRegressor(loss =\"squared_error\", max_iter=1000)\n",
        "clf.fit(X,y)\n",
        "print(clf.coef_)\n",
        "print(clf.intercept_)\n",
        "print(clf.predict([[4., 9.]]))"
      ],
      "metadata": {
        "colab": {
          "base_uri": "https://localhost:8080/"
        },
        "id": "kx5XHRku_C1P",
        "outputId": "32fd6ae8-b77c-44ea-fdfd-d916ce1e3c19"
      },
      "execution_count": 8,
      "outputs": [
        {
          "output_type": "stream",
          "name": "stdout",
          "text": [
            "[0.67442267 0.02973743]\n",
            "[0.1462163]\n",
            "[3.11154386]\n"
          ]
        }
      ]
    },
    {
      "cell_type": "code",
      "source": [
        "clf_huber =SGDRegressor(loss =\"huber\", max_iter=1000)\n",
        "clf_huber.fit(X,y)\n",
        "print(clf_huber.coef_)\n",
        "print(clf_huber.intercept_)\n",
        "print(clf_huber.predict([[4., 9.]]))"
      ],
      "metadata": {
        "colab": {
          "base_uri": "https://localhost:8080/"
        },
        "id": "P3XbMZ9a_PxS",
        "outputId": "d65d6684-6ab8-43f3-821b-854d706c3956"
      },
      "execution_count": 13,
      "outputs": [
        {
          "output_type": "stream",
          "name": "stdout",
          "text": [
            "[0.20333125 0.13611925]\n",
            "[0.04499531]\n",
            "[2.08339358]\n"
          ]
        }
      ]
    },
    {
      "cell_type": "code",
      "source": [
        "clf_epsilon =SGDRegressor(loss =\"epsilon_insensitive\", epsilon= 2, max_iter=1000)\n",
        "clf_epsilon.fit(X,y)\n",
        "print(clf_epsilon.coef_)\n",
        "print(clf_epsilon.intercept_)\n",
        "print(clf_epsilon.predict([[4., 9.]]))"
      ],
      "metadata": {
        "colab": {
          "base_uri": "https://localhost:8080/"
        },
        "id": "_cEanlE6_oos",
        "outputId": "248653e9-1d12-4982-fb16-e15728e56771"
      },
      "execution_count": 14,
      "outputs": [
        {
          "output_type": "stream",
          "name": "stdout",
          "text": [
            "[0.47389898 0.09906422]\n",
            "[0.09617725]\n",
            "[2.88335114]\n"
          ]
        }
      ]
    },
    {
      "cell_type": "code",
      "source": [],
      "metadata": {
        "id": "8bT7u1LM_sGN"
      },
      "execution_count": null,
      "outputs": []
    }
  ]
}