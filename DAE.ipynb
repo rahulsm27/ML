{
  "nbformat": 4,
  "nbformat_minor": 0,
  "metadata": {
    "colab": {
      "provenance": [],
      "authorship_tag": "ABX9TyMiYCduVYCVjC8ESLve88wB",
      "include_colab_link": true
    },
    "kernelspec": {
      "name": "python3",
      "display_name": "Python 3"
    },
    "language_info": {
      "name": "python"
    }
  },
  "cells": [
    {
      "cell_type": "markdown",
      "metadata": {
        "id": "view-in-github",
        "colab_type": "text"
      },
      "source": [
        "<a href=\"https://colab.research.google.com/github/rahulsm27/ML/blob/main/DAE.ipynb\" target=\"_parent\"><img src=\"https://colab.research.google.com/assets/colab-badge.svg\" alt=\"Open In Colab\"/></a>"
      ]
    },
    {
      "cell_type": "code",
      "execution_count": 4,
      "metadata": {
        "id": "I8FouQYtJmDH"
      },
      "outputs": [],
      "source": [
        "import torch.utils.data\n",
        "from torchvision import datasets, transforms\n",
        "import numpy as np\n",
        "import pandas as pd\n",
        "\n",
        "from torch import nn, optim\n",
        "\n",
        "device = 'cuda' if torch.cuda.is_available() else 'cpu'\n",
        "\n"
      ]
    },
    {
      "cell_type": "code",
      "source": [
        "from torch.utils.data import DataLoader\n",
        "\n",
        "\n",
        "transform = transforms.Compose([transforms.ToTensor(), transforms.Normalize(0,1)])\n",
        "# Load the MNIST dataset\n",
        "mnist_dataset_train = datasets.MNIST(root='./data', train=True, download=True, transform=transform)\n",
        "# Load the MNIST dataset\n",
        "mnist_dataset_test = datasets.MNIST(root='./data', train=True, download=True, transform=transform)\n",
        "\n",
        "\n",
        "batch_size = 128\n",
        "train_loader = torch.utils.data.DataLoader(mnist_dataset_train,batch_size=batch_size, shuffle=True)\n",
        "test_loader = torch.utils.data.DataLoader(mnist_dataset_test,batch_size=batch_size, shuffle=True)\n"
      ],
      "metadata": {
        "id": "BnqSqqB8LOV3"
      },
      "execution_count": 60,
      "outputs": []
    },
    {
      "cell_type": "code",
      "source": [
        "latent_dim = 64\n",
        "categorical_dim = 2\n",
        "\n"
      ],
      "metadata": {
        "id": "2wb2XbnEOBvj"
      },
      "execution_count": 61,
      "outputs": []
    },
    {
      "cell_type": "code",
      "source": [
        "class DAE(nn.Module):\n",
        "    def __init__(self):\n",
        "        super().__init__()\n",
        "\n",
        "        self.fc1 = nn.Linear(784, 512)\n",
        "        self.fc2 = nn.Linear(512, 256)\n",
        "        self.fc3 = nn.Linear(256, 128)\n",
        "\n",
        "        self.fc4 = nn.Linear(128, 256)\n",
        "        self.fc5 = nn.Linear(256, 512)\n",
        "        self.fc6 = nn.Linear(512, 784)\n",
        "\n",
        "        self.relu = nn.ReLU()\n",
        "        self.sigmoid = nn.Sigmoid()\n",
        "\n",
        "    def encode(self, x):\n",
        "      # Add noise to the images\n",
        "        noise_factor = 0.5\n",
        "        x_noise = x + noise_factor * np.random.normal(loc=0.0, scale=1.0, size=x.shape)\n",
        "\n",
        "        self.noise = torch.randn(x.shape)\n",
        "        x_noise = x + self.noise\n",
        "        h1 = self.relu(self.fc1(x_noise))\n",
        "        h2 = self.relu(self.fc2(h1))\n",
        "        return self.relu(self.fc3(h2))\n",
        "\n",
        "    def decode(self, z):\n",
        "        h4 = self.relu(self.fc4(z))\n",
        "        h5 = self.relu(self.fc5(h4))\n",
        "        return self.sigmoid(self.fc6(h5))\n",
        "\n",
        "    def forward(self, x):\n",
        "        q = self.encode(x.view(-1, 784))\n",
        "        #print (q.size)\n",
        "      #  q_y = q.view(q.size(0), latent_dim, categorical_dim)\n",
        "        return self.decode(q)"
      ],
      "metadata": {
        "id": "m4ZF4DjQLih5"
      },
      "execution_count": 62,
      "outputs": []
    },
    {
      "cell_type": "code",
      "source": [
        "\n"
      ],
      "metadata": {
        "id": "BtuwLzOzMQek"
      },
      "execution_count": 62,
      "outputs": []
    },
    {
      "cell_type": "code",
      "source": [
        "# # Reconstruction + KL divergence losses summed over all elements and batch\n",
        "# def loss_function(recon_x, x, qy):\n",
        "#     BCE = F.binary_cross_entropy(recon_x, x.view(-1, 784), size_average=False) / x.shape[0]\n",
        "\n",
        "#     log_ratio = torch.log(qy * categorical_dim + 1e-20)\n",
        "#     KLD = torch.sum(qy * log_ratio, dim=-1).mean()\n",
        "\n",
        "#     return BCE + KLD"
      ],
      "metadata": {
        "id": "23dMbGl1Nyui"
      },
      "execution_count": 63,
      "outputs": []
    },
    {
      "cell_type": "code",
      "source": [
        "\n",
        "def train(epoch, model, train_loader, optimizer,  cuda=True):\n",
        "  model.train()\n",
        "  train_loss = 0\n",
        "  for batch_idx, (data, _) in enumerate(train_loader):\n",
        "    data.to(device)\n",
        "    optimizer.zero_grad()\n",
        "\n",
        "    recon_batch = model(data)\n",
        "    loss = criterion(recon_batch, data.view(data.size(0),-1).to(device) )\n",
        "    loss.backward()\n",
        "\n",
        "    train_loss += loss.item() * len(data)\n",
        "    optimizer.step()\n",
        "\n",
        "\n",
        "    if batch_idx % 100 == 0:\n",
        "        print('Train Epoch: {} [{}/{} ({:.0f}%)]\\tLoss: {:.6f}'.format(epoch, batch_idx * len(data), len(train_loader.dataset),\n",
        "                  100. * batch_idx / len(train_loader),\n",
        "                  loss.item()))\n",
        "\n",
        "  print('====> Epoch: {} Average loss: {:.4f}'.format(epoch, train_loss / len(train_loader.dataset)))"
      ],
      "metadata": {
        "id": "hkdbM6QZMIR1"
      },
      "execution_count": 64,
      "outputs": []
    },
    {
      "cell_type": "code",
      "source": [
        "epochs = 10\n",
        "\n",
        "model = DAE().to(device)\n",
        "optimizer = optim.Adam(model.parameters(), lr=1e-2)\n",
        "criterion = nn.MSELoss()\n"
      ],
      "metadata": {
        "id": "4EdhWbA6SAl0"
      },
      "execution_count": 65,
      "outputs": []
    },
    {
      "cell_type": "code",
      "source": [
        "for epoch in range(1, epochs + 1):\n",
        "    train(epoch, model, train_loader, optimizer, True)"
      ],
      "metadata": {
        "colab": {
          "base_uri": "https://localhost:8080/"
        },
        "id": "kzPdlLwLSR1L",
        "outputId": "270b6aa8-4798-4041-b50d-972816282d50"
      },
      "execution_count": 66,
      "outputs": [
        {
          "output_type": "stream",
          "name": "stdout",
          "text": [
            "Train Epoch: 1 [0/60000 (0%)]\tLoss: 0.232310\n",
            "Train Epoch: 1 [12800/60000 (21%)]\tLoss: 0.056926\n",
            "Train Epoch: 1 [25600/60000 (43%)]\tLoss: 0.051320\n",
            "Train Epoch: 1 [38400/60000 (64%)]\tLoss: 0.043771\n",
            "Train Epoch: 1 [51200/60000 (85%)]\tLoss: 0.046770\n",
            "====> Epoch: 1 Average loss: 0.0518\n",
            "Train Epoch: 2 [0/60000 (0%)]\tLoss: 0.042626\n",
            "Train Epoch: 2 [12800/60000 (21%)]\tLoss: 0.042446\n",
            "Train Epoch: 2 [25600/60000 (43%)]\tLoss: 0.039057\n",
            "Train Epoch: 2 [38400/60000 (64%)]\tLoss: 0.039950\n",
            "Train Epoch: 2 [51200/60000 (85%)]\tLoss: 0.040982\n",
            "====> Epoch: 2 Average loss: 0.0413\n",
            "Train Epoch: 3 [0/60000 (0%)]\tLoss: 0.041841\n",
            "Train Epoch: 3 [12800/60000 (21%)]\tLoss: 0.039737\n",
            "Train Epoch: 3 [25600/60000 (43%)]\tLoss: 0.040195\n",
            "Train Epoch: 3 [38400/60000 (64%)]\tLoss: 0.040779\n",
            "Train Epoch: 3 [51200/60000 (85%)]\tLoss: 0.040951\n",
            "====> Epoch: 3 Average loss: 0.0397\n",
            "Train Epoch: 4 [0/60000 (0%)]\tLoss: 0.037971\n",
            "Train Epoch: 4 [12800/60000 (21%)]\tLoss: 0.037652\n",
            "Train Epoch: 4 [25600/60000 (43%)]\tLoss: 0.038853\n",
            "Train Epoch: 4 [38400/60000 (64%)]\tLoss: 0.038815\n",
            "Train Epoch: 4 [51200/60000 (85%)]\tLoss: 0.037840\n",
            "====> Epoch: 4 Average loss: 0.0391\n",
            "Train Epoch: 5 [0/60000 (0%)]\tLoss: 0.039811\n",
            "Train Epoch: 5 [12800/60000 (21%)]\tLoss: 0.037598\n",
            "Train Epoch: 5 [25600/60000 (43%)]\tLoss: 0.039474\n",
            "Train Epoch: 5 [38400/60000 (64%)]\tLoss: 0.038939\n",
            "Train Epoch: 5 [51200/60000 (85%)]\tLoss: 0.036660\n",
            "====> Epoch: 5 Average loss: 0.0386\n",
            "Train Epoch: 6 [0/60000 (0%)]\tLoss: 0.037538\n",
            "Train Epoch: 6 [12800/60000 (21%)]\tLoss: 0.038134\n",
            "Train Epoch: 6 [25600/60000 (43%)]\tLoss: 0.039207\n",
            "Train Epoch: 6 [38400/60000 (64%)]\tLoss: 0.040904\n",
            "Train Epoch: 6 [51200/60000 (85%)]\tLoss: 0.039147\n",
            "====> Epoch: 6 Average loss: 0.0383\n",
            "Train Epoch: 7 [0/60000 (0%)]\tLoss: 0.036332\n",
            "Train Epoch: 7 [12800/60000 (21%)]\tLoss: 0.036830\n",
            "Train Epoch: 7 [25600/60000 (43%)]\tLoss: 0.037140\n",
            "Train Epoch: 7 [38400/60000 (64%)]\tLoss: 0.039395\n",
            "Train Epoch: 7 [51200/60000 (85%)]\tLoss: 0.038677\n",
            "====> Epoch: 7 Average loss: 0.0379\n",
            "Train Epoch: 8 [0/60000 (0%)]\tLoss: 0.037917\n",
            "Train Epoch: 8 [12800/60000 (21%)]\tLoss: 0.038684\n",
            "Train Epoch: 8 [25600/60000 (43%)]\tLoss: 0.036827\n",
            "Train Epoch: 8 [38400/60000 (64%)]\tLoss: 0.036637\n",
            "Train Epoch: 8 [51200/60000 (85%)]\tLoss: 0.038449\n",
            "====> Epoch: 8 Average loss: 0.0376\n",
            "Train Epoch: 9 [0/60000 (0%)]\tLoss: 0.037680\n",
            "Train Epoch: 9 [12800/60000 (21%)]\tLoss: 0.038635\n",
            "Train Epoch: 9 [25600/60000 (43%)]\tLoss: 0.038813\n",
            "Train Epoch: 9 [38400/60000 (64%)]\tLoss: 0.036621\n",
            "Train Epoch: 9 [51200/60000 (85%)]\tLoss: 0.036913\n",
            "====> Epoch: 9 Average loss: 0.0374\n",
            "Train Epoch: 10 [0/60000 (0%)]\tLoss: 0.039013\n",
            "Train Epoch: 10 [12800/60000 (21%)]\tLoss: 0.036271\n",
            "Train Epoch: 10 [25600/60000 (43%)]\tLoss: 0.038023\n",
            "Train Epoch: 10 [38400/60000 (64%)]\tLoss: 0.036893\n",
            "Train Epoch: 10 [51200/60000 (85%)]\tLoss: 0.037486\n",
            "====> Epoch: 10 Average loss: 0.0372\n"
          ]
        }
      ]
    },
    {
      "cell_type": "code",
      "source": [
        "import matplotlib.pyplot as plt\n",
        "\n",
        "\n",
        "\n",
        "\n",
        "x_test = torch.randn(128).to(device)\n",
        "denoised_images = model.decode(x_test)*255\n",
        "# Display the first image in the denoised test set\n",
        "plt.imshow(denoised_images.view(28,28).detach().numpy(), cmap='gray')\n",
        "plt.show()"
      ],
      "metadata": {
        "colab": {
          "base_uri": "https://localhost:8080/",
          "height": 430
        },
        "id": "t-FHBiNZSTdu",
        "outputId": "bd08ccca-546d-4e05-96d7-489fa670259c"
      },
      "execution_count": 72,
      "outputs": [
        {
          "output_type": "display_data",
          "data": {
            "text/plain": [
              "<Figure size 640x480 with 1 Axes>"
            ],
            "image/png": "[encoded data removed]"
          },
          "metadata": {}
        }
      ]
    },
    {
      "cell_type": "code",
      "source": [],
      "metadata": {
        "id": "RyDPy4V3Xo4O"
      },
      "execution_count": null,
      "outputs": []
    }
  ]
}