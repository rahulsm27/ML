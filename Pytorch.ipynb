{
  "nbformat": 4,
  "nbformat_minor": 0,
  "metadata": {
    "colab": {
      "provenance": [],
      "gpuType": "T4",
      "authorship_tag": "ABX9TyNScl0G6JAbkNtadXd7l86R",
      "include_colab_link": true
    },
    "kernelspec": {
      "name": "python3",
      "display_name": "Python 3"
    },
    "language_info": {
      "name": "python"
    },
    "accelerator": "GPU"
  },
  "cells": [
    {
      "cell_type": "markdown",
      "metadata": {
        "id": "view-in-github",
        "colab_type": "text"
      },
      "source": [
        "<a href=\"https://colab.research.google.com/github/rahulsm27/ML/blob/main/Pytorch.ipynb\" target=\"_parent\"><img src=\"https://colab.research.google.com/assets/colab-badge.svg\" alt=\"Open In Colab\"/></a>"
      ]
    },
    {
      "cell_type": "code",
      "source": [
        "# Installing required libraries\n",
        "!pip install torchinfo\n",
        "import torchinfo\n",
        "import torch\n",
        "from torch import nn,optim\n",
        "import torch.nn.functional as F\n",
        "import pandas as pd\n",
        "import numpy as np"
      ],
      "metadata": {
        "colab": {
          "base_uri": "https://localhost:8080/"
        },
        "id": "JpucmF1gg0op",
        "outputId": "37d11cde-56fc-465e-9543-fc3dd911bc96"
      },
      "execution_count": 10,
      "outputs": [
        {
          "output_type": "stream",
          "name": "stdout",
          "text": [
            "Requirement already satisfied: torchinfo in /usr/local/lib/python3.10/dist-packages (1.8.0)\n"
          ]
        }
      ]
    },
    {
      "cell_type": "code",
      "source": [
        "#device = \"cuda\" if torch.cuda.is_available() else \"cpu\"\n",
        "device = \"cpu\""
      ],
      "metadata": {
        "id": "TnNEFgQh-chw"
      },
      "execution_count": 3,
      "outputs": []
    },
    {
      "cell_type": "code",
      "execution_count": 4,
      "metadata": {
        "id": "FLoh6uleCcXV"
      },
      "outputs": [],
      "source": [
        "# Creating our own LeNet5\n",
        "\n",
        "class LeNet5(nn.Module):\n",
        "  def __init__(self):\n",
        "    super(LeNet5,self).__init__()\n",
        "    self.conv1 = nn.Conv2d(3,6,5) # in channel , out channe, kernel\n",
        "    self.relu1 = nn.ReLU()\n",
        "    self.maxpool1 = nn.MaxPool2d((2,2))\n",
        "\n",
        "    self.conv2 = nn.Conv2d(6,16,5)  # in channel , out channe, kernel\n",
        "    self.relu2 = nn.ReLU()\n",
        "    self.maxpool2 = nn.MaxPool2d((2,2))\n",
        "\n",
        "    self.fc1 = nn.Linear(16*5*5,120)\n",
        "    self.fc2 = nn.Linear(120,84)\n",
        "    self.fc3 = nn.Linear(84,10)\n",
        "\n",
        "  def forward(self, x):\n",
        "    # x = F.max_pool2d(F.relu(self.conv1(x)),(2, 2))\n",
        "    # x = F.max_pool2d(F.relu(self.conv2(x)), 2)\n",
        "    x = self.conv1(x)\n",
        "    x = self.relu1(x)\n",
        "    x= self.maxpool1(x)\n",
        "\n",
        "    x = self.conv2(x)\n",
        "    x = self.relu2(x)\n",
        "    x= self.maxpool2(x)\n",
        "\n",
        "    x = x.view(-1,int(x.nelement() / x.shape[0]))\n",
        "\n",
        "    x = F.relu(self.fc1(x))\n",
        "    x = F.relu(self.fc2(x))\n",
        "    x = self.fc3(x)\n",
        "\n",
        "\n",
        "\n",
        "    return x\n",
        "\n",
        "\n",
        "\n",
        "model = LeNet5().to(device)"
      ]
    },
    {
      "cell_type": "code",
      "source": [
        "from torchvision import transforms\n",
        "from torchvision.datasets import CIFAR10\n",
        "train_transforms = transforms.Compose([ transforms.RandomCrop(32, padding=4), transforms.RandomHorizontalFlip(), transforms.ToTensor(), transforms.Normalize(mean=(0.4914, 0.4822, 0.4465), std=(0.2023, 0.1994, 0.2010))])\n",
        "train_data = CIFAR10(root=\"./train/\", train=True, download=True, transform=train_transforms)\n",
        "trainloader = torch.utils.data.DataLoader( train_data,batch_size=16, shuffle=True)"
      ],
      "metadata": {
        "id": "6J2FJKvCHqaZ",
        "colab": {
          "base_uri": "https://localhost:8080/"
        },
        "outputId": "9e7a15c7-cf35-4a74-db5c-6090d32c35f9"
      },
      "execution_count": 5,
      "outputs": [
        {
          "output_type": "stream",
          "name": "stdout",
          "text": [
            "Downloading https://www.cs.toronto.edu/~kriz/cifar-10-python.tar.gz to ./train/cifar-10-python.tar.gz\n"
          ]
        },
        {
          "output_type": "stream",
          "name": "stderr",
          "text": [
            "100%|██████████| 170498071/170498071 [00:12<00:00, 13373549.09it/s]\n"
          ]
        },
        {
          "output_type": "stream",
          "name": "stdout",
          "text": [
            "Extracting ./train/cifar-10-python.tar.gz to ./train/\n"
          ]
        }
      ]
    },
    {
      "cell_type": "code",
      "source": [
        "criterion = nn.CrossEntropyLoss()\n",
        "optimizer = optim.SGD(model.parameters(),lr=0.001, momentum=0.9)"
      ],
      "metadata": {
        "id": "j_uypS65IrnV"
      },
      "execution_count": 6,
      "outputs": []
    },
    {
      "cell_type": "code",
      "source": [
        "N_EPOCHS = 20\n",
        "for epoch in range(N_EPOCHS):\n",
        "  epoch_loss = 0.0\n",
        "  for inputs, labels in trainloader:\n",
        "    inputs = inputs.to(device)\n",
        "    labels = labels.to(device)\n",
        "\n",
        "    optimizer.zero_grad()\n",
        "\n",
        "    outputs = model(inputs)\n",
        "\n",
        "    loss = criterion(outputs, labels)\n",
        "    loss.backward()\n",
        "    optimizer.step()\n",
        "    epoch_loss += loss.item()\n",
        "  print(\"Epoch: {} Loss: {}\".format(epoch,epoch_loss/len(trainloader)))"
      ],
      "metadata": {
        "colab": {
          "base_uri": "https://localhost:8080/"
        },
        "id": "b3BrUmUfI1T-",
        "outputId": "640edbe8-9971-422f-8dcc-86aae6bf2e09"
      },
      "execution_count": 7,
      "outputs": [
        {
          "output_type": "stream",
          "name": "stdout",
          "text": [
            "Epoch: 0 Loss: 1.9791963856887818\n",
            "Epoch: 1 Loss: 1.635020360546112\n",
            "Epoch: 2 Loss: 1.4983821289634704\n",
            "Epoch: 3 Loss: 1.4150109517097473\n",
            "Epoch: 4 Loss: 1.3551741639900208\n",
            "Epoch: 5 Loss: 1.3074513339805602\n",
            "Epoch: 6 Loss: 1.2631094504928588\n",
            "Epoch: 7 Loss: 1.2307385359191894\n",
            "Epoch: 8 Loss: 1.2021612531375885\n",
            "Epoch: 9 Loss: 1.1819142775344849\n",
            "Epoch: 10 Loss: 1.1565085112285614\n",
            "Epoch: 11 Loss: 1.142551529378891\n",
            "Epoch: 12 Loss: 1.126042156085968\n",
            "Epoch: 13 Loss: 1.1133582607269288\n",
            "Epoch: 14 Loss: 1.0945655228996276\n",
            "Epoch: 15 Loss: 1.0882967677211761\n",
            "Epoch: 16 Loss: 1.076190096540451\n",
            "Epoch: 17 Loss: 1.0695812685489654\n",
            "Epoch: 18 Loss: 1.0549307771396637\n",
            "Epoch: 19 Loss: 1.0451562338352203\n"
          ]
        }
      ]
    },
    {
      "cell_type": "code",
      "source": [
        "y_pred = model(train_data[1][0].unsqueeze(0).to(device))\n",
        "print(f\" Model predicted label : {np.argmax(y_pred.detach().numpy())}\")\n",
        "print(f\" Actual label : {train_data[1][1]}\")"
      ],
      "metadata": {
        "colab": {
          "base_uri": "https://localhost:8080/"
        },
        "id": "xjsAX92_lIu7",
        "outputId": "1e33928b-6f02-402a-e7b3-e8db2e48f0d1"
      },
      "execution_count": 14,
      "outputs": [
        {
          "output_type": "stream",
          "name": "stdout",
          "text": [
            " Model predicted label : 9\n",
            " Actual label : 9\n"
          ]
        }
      ]
    },
    {
      "cell_type": "code",
      "source": [
        "import numpy as np\n",
        "\n",
        "def softmax(z):\n",
        "    e_z = np.exp(z)\n",
        "    return e_z / e_z.sum()\n",
        "\n",
        "# Example usage:\n",
        "input_vector = np.array([2.0, 1.0, 0.1])\n",
        "softmax_probs = softmax(input_vector)\n",
        "print(softmax_probs)\n"
      ],
      "metadata": {
        "colab": {
          "base_uri": "https://localhost:8080/"
        },
        "id": "PQl1TDMuWPoH",
        "outputId": "cc2c8966-930c-4a8a-db35-3c75bc73f17e"
      },
      "execution_count": 24,
      "outputs": [
        {
          "output_type": "stream",
          "name": "stdout",
          "text": [
            "[0.65900114 0.24243297 0.09856589]\n"
          ]
        }
      ]
    },
    {
      "cell_type": "code",
      "source": [
        "softmax_log = np.log(softmax_probs) * -1\n",
        "print(softmax_log)"
      ],
      "metadata": {
        "colab": {
          "base_uri": "https://localhost:8080/"
        },
        "id": "XBZqCWO5WQDl",
        "outputId": "ff496a07-2d5e-46ab-8492-e735cd64df12"
      },
      "execution_count": 23,
      "outputs": [
        {
          "output_type": "stream",
          "name": "stdout",
          "text": [
            "[0.41703002 1.41703002 2.31703002]\n"
          ]
        }
      ]
    },
    {
      "cell_type": "code",
      "source": [],
      "metadata": {
        "id": "xNFCuSX7WWiJ"
      },
      "execution_count": null,
      "outputs": []
    }
  ]
}