{
  "nbformat": 4,
  "nbformat_minor": 0,
  "metadata": {
    "colab": {
      "provenance": [],
      "authorship_tag": "ABX9TyPoHnKSjMDnJM2kadweBBsm",
      "include_colab_link": true
    },
    "kernelspec": {
      "name": "python3",
      "display_name": "Python 3"
    },
    "language_info": {
      "name": "python"
    }
  },
  "cells": [
    {
      "cell_type": "markdown",
      "metadata": {
        "id": "view-in-github",
        "colab_type": "text"
      },
      "source": [
        "<a href=\"https://colab.research.google.com/github/rahulsm27/ML/blob/main/VAE_Gumbel_Softmax.ipynb\" target=\"_parent\"><img src=\"https://colab.research.google.com/assets/colab-badge.svg\" alt=\"Open In Colab\"/></a>"
      ]
    },
    {
      "cell_type": "code",
      "execution_count": 1,
      "metadata": {
        "id": "Xgu9bQilWC6V"
      },
      "outputs": [],
      "source": [
        "\n",
        "import torch.utils.data\n",
        "\n",
        "from torch import nn, optim\n",
        "from torchvision import datasets, transforms\n",
        "from torchvision.utils import save_image\n",
        "\n",
        "import torch.nn.functional as F\n",
        "import numpy as np\n",
        "import pandas as pd\n",
        "import math\n"
      ]
    },
    {
      "cell_type": "code",
      "source": [
        "\n",
        "device = 'cuda' if torch.cuda.is_available() else 'cpu'"
      ],
      "metadata": {
        "id": "WDXkPnj1lktE"
      },
      "execution_count": 2,
      "outputs": []
    },
    {
      "cell_type": "code",
      "source": [
        "from torch.utils.data import DataLoader\n",
        "# Load the MNIST dataset\n",
        "mnist_dataset_train = datasets.MNIST(root='./data', train=True, download=True, transform=transforms.ToTensor())\n",
        "# Load the MNIST dataset\n",
        "mnist_dataset_test = datasets.MNIST(root='./data', train=True, download=True, transform=transforms.ToTensor())\n",
        "\n",
        "\n",
        "batch_size = 128\n",
        "train_loader = torch.utils.data.DataLoader(mnist_dataset_train,batch_size=batch_size, shuffle=True)\n",
        "test_loader = torch.utils.data.DataLoader(mnist_dataset_test,batch_size=batch_size, shuffle=True)\n",
        "\n",
        "# train_loader = torch.utils.data.DataLoader(\n",
        "#     datasets.MNIST('data', train=True, download=True, transform=transforms.ToTensor()),\n",
        "#     batch_size=128, shuffle=True)\n",
        "\n",
        "# test_loader = torch.utils.data.DataLoader(\n",
        "#     datasets.MNIST('data', train=False, transform=transforms.ToTensor()),\n",
        "#     batch_size=128, shuffle=True)"
      ],
      "metadata": {
        "id": "em7pdKmUWEJJ"
      },
      "execution_count": 5,
      "outputs": []
    },
    {
      "cell_type": "code",
      "source": [],
      "metadata": {
        "id": "vYgF_OvwWmJR"
      },
      "execution_count": null,
      "outputs": []
    },
    {
      "cell_type": "code",
      "source": [
        "# Code to implement VAE-gumple_softmax in pytorch\n",
        "\n",
        "# The code has been modified from pytorch example vae code and inspired by the origianl \\\n",
        "# tensorflow implementation of gumble-softmax by Eric Jang.\n",
        "\n",
        "\n",
        "\n",
        "\n",
        "def sample_gumbel(shape, eps=1e-20):\n",
        "    U = torch.rand(shape).to(device)\n",
        "\n",
        "    return -torch.log(-torch.log(U + eps) + eps)\n",
        "\n",
        "\n",
        "def gumbel_softmax_sample(logits, temperature):\n",
        "    y = logits + sample_gumbel(logits.size())\n",
        "    return F.softmax(y / temperature, dim=-1)\n",
        "\n",
        "\n",
        "def gumbel_softmax(logits, temperature, hard=False):\n",
        "    \"\"\"\n",
        "    ST-gumple-softmax\n",
        "    input: [*, n_class]\n",
        "    return: flatten --> [*, n_class] an one-hot vector\n",
        "    \"\"\"\n",
        "    y = gumbel_softmax_sample(logits, temperature)\n",
        "\n",
        "    if not hard:\n",
        "        return y.view(-1, latent_dim * categorical_dim)\n",
        "\n",
        "    shape = y.size()\n",
        "    _, ind = y.max(dim=-1)\n",
        "    y_hard = torch.zeros_like(y).view(-1, shape[-1])\n",
        "    y_hard.scatter_(1, ind.view(-1, 1), 1)\n",
        "    y_hard = y_hard.view(*shape)\n",
        "    # Set gradients w.r.t. y_hard gradients w.r.t. y\n",
        "    y_hard = (y_hard - y).detach() + y\n",
        "    return y_hard.view(-1, latent_dim * categorical_dim)\n",
        "\n",
        "\n"
      ],
      "metadata": {
        "id": "9csOThdLaPgQ"
      },
      "execution_count": 6,
      "outputs": []
    },
    {
      "cell_type": "code",
      "source": [
        "class VAE_gumbel(nn.Module):\n",
        "    def __init__(self, temp):\n",
        "        super(VAE_gumbel, self).__init__()\n",
        "\n",
        "        self.fc1 = nn.Linear(784, 512)\n",
        "        self.fc2 = nn.Linear(512, 256)\n",
        "        self.fc3 = nn.Linear(256, latent_dim * categorical_dim)\n",
        "\n",
        "        self.fc4 = nn.Linear(latent_dim * categorical_dim, 256)\n",
        "        self.fc5 = nn.Linear(256, 512)\n",
        "        self.fc6 = nn.Linear(512, 784)\n",
        "\n",
        "        self.relu = nn.ReLU()\n",
        "        self.sigmoid = nn.Sigmoid()\n",
        "\n",
        "    def encode(self, x):\n",
        "        h1 = self.relu(self.fc1(x))\n",
        "        h2 = self.relu(self.fc2(h1))\n",
        "        return self.relu(self.fc3(h2))\n",
        "\n",
        "    def decode(self, z):\n",
        "        h4 = self.relu(self.fc4(z))\n",
        "        h5 = self.relu(self.fc5(h4))\n",
        "        return self.sigmoid(self.fc6(h5))\n",
        "\n",
        "    def forward(self, x, temp=0, hard=False):\n",
        "        q = self.encode(x.view(-1, 784))\n",
        "        q_y = q.view(q.size(0), latent_dim, categorical_dim)\n",
        "        z = gumbel_softmax(q_y, temp, hard)\n",
        "        return self.decode(z), F.softmax(q_y, dim=-1).reshape(*q.size())"
      ],
      "metadata": {
        "id": "dEIA4qgi8LWz"
      },
      "execution_count": 20,
      "outputs": []
    },
    {
      "cell_type": "code",
      "source": [
        "latent_dim = 20\n",
        "categorical_dim = 10  # one-of-K vector\n",
        "\n",
        "temp = 1\n",
        "temp_min = 0.5\n",
        "ANNEAL_RATE = 0.00003\n",
        "\n",
        "model = VAE_gumbel(temp).to(device)\n",
        "optimizer = optim.Adam(model.parameters(), lr=1e-3)\n",
        "\n",
        "\n",
        "# Reconstruction + KL divergence losses summed over all elements and batch\n",
        "def loss_function(recon_x, x, qy):\n",
        "    BCE = F.binary_cross_entropy(recon_x, x.view(-1, 784), size_average=False) / x.shape[0]\n",
        "\n",
        "    log_ratio = torch.log(qy * categorical_dim + 1e-20)\n",
        "    KLD = torch.sum(qy * log_ratio, dim=-1).mean()\n",
        "\n",
        "    return BCE + KLD"
      ],
      "metadata": {
        "id": "nm64RCjQlDnH"
      },
      "execution_count": 21,
      "outputs": []
    },
    {
      "cell_type": "code",
      "source": [
        "def train(epoch, model, train_loader, optimizer, temp, cuda=True, hard=False):\n",
        "  model.train()\n",
        "  train_loss = 0\n",
        "  for batch_idx, (data, _) in enumerate(train_loader):\n",
        "    data.to(device)\n",
        "    optimizer.zero_grad()\n",
        "\n",
        "    recon_batch, q_y = model(data, temp, hard)\n",
        "\n",
        "    loss = loss_function(recon_batch, data, q_y)\n",
        "    loss.backward()\n",
        "\n",
        "    train_loss += loss.item() * len(data)\n",
        "    optimizer.step()\n",
        "\n",
        "    if batch_idx % 100 == 1:\n",
        "        temp = np.maximum(temp * np.exp(-ANNEAL_RATE * batch_idx), temp_min)\n",
        "\n",
        "    if batch_idx % 100 == 0:\n",
        "        print('Train Epoch: {} [{}/{} ({:.0f}%)]\\tLoss: {:.6f}'.format(epoch, batch_idx * len(data), len(train_loader.dataset),\n",
        "                  100. * batch_idx / len(train_loader),\n",
        "                  loss.item()))\n",
        "\n",
        "  print('====> Epoch: {} Average loss: {:.4f}'.format(epoch, train_loss / len(train_loader.dataset)))\n"
      ],
      "metadata": {
        "id": "PnQh-fT2aR3r"
      },
      "execution_count": 22,
      "outputs": []
    },
    {
      "cell_type": "code",
      "source": [
        "def test(epoch, model, test_loader, temp, cuda=True, hard=False):\n",
        "  model.eval()\n",
        "  test_loss = 0\n",
        "\n",
        "  for i, (data, _) in enumerate(test_loader):\n",
        "    data.to(device)\n",
        "\n",
        "    recon_batch, qy = model(data, temp, hard)\n",
        "    test_loss += loss_function(recon_batch, data, qy).item() * len(data)\n",
        "\n",
        "    if i % 100 == 1:\n",
        "        temp = np.maximum(temp * np.exp(-ANNEAL_RATE * i), temp_min)\n",
        "\n",
        "    if i == 0:\n",
        "        n = min(data.size(0), 8)\n",
        "        comparison = torch.cat([data[:n],recon_batch.view(128, 1, 28, 28)[:n]])\n",
        "        save_image(comparison.data.to(device),f\"./reconstruction_{epoch:03d}.png\", nrow=n)\n",
        "\n",
        "  test_loss /= len(test_loader.dataset)\n",
        "  print('====> Test set loss: {:.4f}'.format(test_loss))"
      ],
      "metadata": {
        "id": "ILgBXA4taUZl"
      },
      "execution_count": 23,
      "outputs": []
    },
    {
      "cell_type": "code",
      "source": [
        "epochs = 10\n",
        "prec = math.ceil(math.log10(epochs / 100))\n",
        "\n",
        "\n",
        "model = VAE_gumbel(latent_dim)\n",
        "model.to(device)"
      ],
      "metadata": {
        "colab": {
          "base_uri": "https://localhost:8080/"
        },
        "id": "v0FHgICwjFM3",
        "outputId": "c2a32d7b-02d8-49f1-e014-33ab44f95f0d"
      },
      "execution_count": 24,
      "outputs": [
        {
          "output_type": "execute_result",
          "data": {
            "text/plain": [
              "VAE_gumbel(\n",
              "  (fc1): Linear(in_features=784, out_features=512, bias=True)\n",
              "  (fc2): Linear(in_features=512, out_features=256, bias=True)\n",
              "  (fc3): Linear(in_features=256, out_features=200, bias=True)\n",
              "  (fc4): Linear(in_features=200, out_features=256, bias=True)\n",
              "  (fc5): Linear(in_features=256, out_features=512, bias=True)\n",
              "  (fc6): Linear(in_features=512, out_features=784, bias=True)\n",
              "  (relu): ReLU()\n",
              "  (sigmoid): Sigmoid()\n",
              ")"
            ]
          },
          "metadata": {},
          "execution_count": 24
        }
      ]
    },
    {
      "cell_type": "code",
      "source": [
        "optimizer = optim.Adam(model.parameters(), lr=1e-3)\n",
        "from torch.autograd import Variable\n",
        "\n",
        "for epoch in range(1, epochs + 1):\n",
        "    train(epoch, model, train_loader, optimizer, temp, True)\n",
        "    test(epoch, model, test_loader, temp, True)\n",
        "\n",
        "    # sample = Variable(torch.randn(64, 200)).to(device)\n",
        "    # sample = model(sample).cpu()\n",
        "    # save_image(sample.data.view(64, 1, 28, 28),'results/sample_' + str(epoch) + '.png')\n",
        "\n",
        "\n",
        "    # M = 64 * latent_dim\n",
        "    # np_y = np.zeros((M, 2), dtype=np.float32)\n",
        "    # np_y[range(M), np.random.choice(2, M)] = 1\n",
        "    # np_y = np.reshape(np_y, [M // latent_dim, latent_dim, 2])\n",
        "\n",
        "    # sample = torch.from_numpy(np_y).view(M // latent_dim, latent_dim * 2)\n",
        "    # sample = sample.to(device)\n",
        "    # sample = model.decode(sample).to(device)\n",
        "\n",
        "    # save_image(sample.data.view(M // latent_dim, 1, 28, 28),f\"./sample_{epoch:03d}.png\")"
      ],
      "metadata": {
        "colab": {
          "base_uri": "https://localhost:8080/"
        },
        "id": "FfZt7aEanaAW",
        "outputId": "22c96258-3688-4951-9a88-6fe8564180a9"
      },
      "execution_count": 26,
      "outputs": [
        {
          "output_type": "stream",
          "name": "stdout",
          "text": [
            "Train Epoch: 1 [0/60000 (0%)]\tLoss: 186.385132\n",
            "Train Epoch: 1 [12800/60000 (21%)]\tLoss: 178.718109\n",
            "Train Epoch: 1 [25600/60000 (43%)]\tLoss: 159.979385\n",
            "Train Epoch: 1 [38400/60000 (64%)]\tLoss: 155.096939\n",
            "Train Epoch: 1 [51200/60000 (85%)]\tLoss: 148.699203\n",
            "====> Epoch: 1 Average loss: 164.9116\n",
            "====> Test set loss: 146.7252\n",
            "Train Epoch: 2 [0/60000 (0%)]\tLoss: 141.607956\n",
            "Train Epoch: 2 [12800/60000 (21%)]\tLoss: 136.666580\n",
            "Train Epoch: 2 [25600/60000 (43%)]\tLoss: 141.950455\n",
            "Train Epoch: 2 [38400/60000 (64%)]\tLoss: 133.401276\n",
            "Train Epoch: 2 [51200/60000 (85%)]\tLoss: 128.395447\n",
            "====> Epoch: 2 Average loss: 139.8862\n",
            "====> Test set loss: 134.7699\n",
            "Train Epoch: 3 [0/60000 (0%)]\tLoss: 137.288391\n",
            "Train Epoch: 3 [12800/60000 (21%)]\tLoss: 131.569946\n",
            "Train Epoch: 3 [25600/60000 (43%)]\tLoss: 138.998703\n",
            "Train Epoch: 3 [38400/60000 (64%)]\tLoss: 135.929230\n",
            "Train Epoch: 3 [51200/60000 (85%)]\tLoss: 132.329407\n",
            "====> Epoch: 3 Average loss: 131.8911\n",
            "====> Test set loss: 128.9055\n",
            "Train Epoch: 4 [0/60000 (0%)]\tLoss: 127.197769\n",
            "Train Epoch: 4 [12800/60000 (21%)]\tLoss: 136.887787\n",
            "Train Epoch: 4 [25600/60000 (43%)]\tLoss: 130.443268\n",
            "Train Epoch: 4 [38400/60000 (64%)]\tLoss: 134.021561\n",
            "Train Epoch: 4 [51200/60000 (85%)]\tLoss: 132.104889\n",
            "====> Epoch: 4 Average loss: 127.0987\n",
            "====> Test set loss: 125.0139\n",
            "Train Epoch: 5 [0/60000 (0%)]\tLoss: 121.532639\n",
            "Train Epoch: 5 [12800/60000 (21%)]\tLoss: 121.567810\n",
            "Train Epoch: 5 [25600/60000 (43%)]\tLoss: 118.832001\n",
            "Train Epoch: 5 [38400/60000 (64%)]\tLoss: 120.955315\n",
            "Train Epoch: 5 [51200/60000 (85%)]\tLoss: 120.479309\n",
            "====> Epoch: 5 Average loss: 123.7173\n",
            "====> Test set loss: 122.5262\n",
            "Train Epoch: 6 [0/60000 (0%)]\tLoss: 120.703888\n",
            "Train Epoch: 6 [12800/60000 (21%)]\tLoss: 122.885559\n",
            "Train Epoch: 6 [25600/60000 (43%)]\tLoss: 120.916718\n",
            "Train Epoch: 6 [38400/60000 (64%)]\tLoss: 116.474861\n",
            "Train Epoch: 6 [51200/60000 (85%)]\tLoss: 120.763947\n",
            "====> Epoch: 6 Average loss: 121.2148\n",
            "====> Test set loss: 120.0979\n",
            "Train Epoch: 7 [0/60000 (0%)]\tLoss: 118.720299\n",
            "Train Epoch: 7 [12800/60000 (21%)]\tLoss: 124.885559\n",
            "Train Epoch: 7 [25600/60000 (43%)]\tLoss: 113.985580\n",
            "Train Epoch: 7 [38400/60000 (64%)]\tLoss: 113.536034\n",
            "Train Epoch: 7 [51200/60000 (85%)]\tLoss: 117.481300\n",
            "====> Epoch: 7 Average loss: 119.2776\n",
            "====> Test set loss: 118.1674\n",
            "Train Epoch: 8 [0/60000 (0%)]\tLoss: 115.977242\n",
            "Train Epoch: 8 [12800/60000 (21%)]\tLoss: 114.796249\n",
            "Train Epoch: 8 [25600/60000 (43%)]\tLoss: 120.126007\n",
            "Train Epoch: 8 [38400/60000 (64%)]\tLoss: 113.618675\n",
            "Train Epoch: 8 [51200/60000 (85%)]\tLoss: 119.121750\n",
            "====> Epoch: 8 Average loss: 117.7186\n",
            "====> Test set loss: 116.7721\n",
            "Train Epoch: 9 [0/60000 (0%)]\tLoss: 119.388992\n",
            "Train Epoch: 9 [12800/60000 (21%)]\tLoss: 114.875267\n",
            "Train Epoch: 9 [25600/60000 (43%)]\tLoss: 115.748390\n",
            "Train Epoch: 9 [38400/60000 (64%)]\tLoss: 117.342056\n",
            "Train Epoch: 9 [51200/60000 (85%)]\tLoss: 114.461937\n",
            "====> Epoch: 9 Average loss: 116.5731\n",
            "====> Test set loss: 115.6487\n",
            "Train Epoch: 10 [0/60000 (0%)]\tLoss: 117.019302\n",
            "Train Epoch: 10 [12800/60000 (21%)]\tLoss: 117.065758\n",
            "Train Epoch: 10 [25600/60000 (43%)]\tLoss: 110.881409\n",
            "Train Epoch: 10 [38400/60000 (64%)]\tLoss: 122.685265\n",
            "Train Epoch: 10 [51200/60000 (85%)]\tLoss: 111.529648\n",
            "====> Epoch: 10 Average loss: 115.4884\n",
            "====> Test set loss: 114.8865\n"
          ]
        }
      ]
    },
    {
      "cell_type": "code",
      "source": [],
      "metadata": {
        "id": "0EQnZv2dnxFl"
      },
      "execution_count": null,
      "outputs": []
    }
  ]
}