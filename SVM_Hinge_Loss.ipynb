{
  "nbformat": 4,
  "nbformat_minor": 0,
  "metadata": {
    "colab": {
      "provenance": [],
      "authorship_tag": "ABX9TyOY5dP2wobCLdrCRfC5IC9C",
      "include_colab_link": true
    },
    "kernelspec": {
      "name": "python3",
      "display_name": "Python 3"
    },
    "language_info": {
      "name": "python"
    }
  },
  "cells": [
    {
      "cell_type": "markdown",
      "metadata": {
        "id": "view-in-github",
        "colab_type": "text"
      },
      "source": [
        "<a href=\"https://colab.research.google.com/github/rahulsm27/ML/blob/main/SVM_Hinge_Loss.ipynb\" target=\"_parent\"><img src=\"https://colab.research.google.com/assets/colab-badge.svg\" alt=\"Open In Colab\"/></a>"
      ]
    },
    {
      "cell_type": "code",
      "execution_count": 3,
      "metadata": {
        "id": "WpYcmK3D6kxg"
      },
      "outputs": [],
      "source": [
        "from sklearn import datasets\n",
        "from sklearn.model_selection import train_test_split\n",
        "from sklearn.metrics import confusion_matrix, precision_score, recall_score"
      ]
    },
    {
      "cell_type": "code",
      "source": [
        "iris = datasets.load_iris()"
      ],
      "metadata": {
        "id": "EhsZT3_w6wp6"
      },
      "execution_count": 4,
      "outputs": []
    },
    {
      "cell_type": "code",
      "source": [
        "X_train, X_test, y_train, y_test = train_test_split(\n",
        "    iris['data'], iris['target'], test_size=0.33, random_state=42)"
      ],
      "metadata": {
        "id": "7crycc2o6z0I"
      },
      "execution_count": 5,
      "outputs": []
    },
    {
      "cell_type": "code",
      "source": [
        "# Using hinge loss\n",
        "from sklearn.linear_model import SGDClassifier\n",
        "clf_hinge = SGDClassifier(loss=\"hinge\", max_iter=1000)\n",
        "clf_hinge.fit(X_train, y_train)\n",
        "y_test_pred_hinge = clf_hinge.predict(X_test)"
      ],
      "metadata": {
        "id": "Jq4fxcnI6zx-"
      },
      "execution_count": 6,
      "outputs": []
    },
    {
      "cell_type": "code",
      "source": [
        "print('\\033[1m' + \"Hinge Loss\" + '\\033[0m')\n",
        "print(\n",
        "    f\"Precision score : {precision_score(y_test_pred_hinge,y_test,average='weighted')}\")\n",
        "print(\n",
        "    f\"Recall score : {recall_score(y_test_pred_hinge,y_test,average='weighted')}\")\n",
        "print(\"Confusion Matrix\")\n",
        "confusion_matrix(y_test_pred_hinge, y_test)"
      ],
      "metadata": {
        "colab": {
          "base_uri": "https://localhost:8080/"
        },
        "id": "0qC2sgdE6zva",
        "outputId": "4c317447-73fe-4a63-beca-5f24dbd0c632"
      },
      "execution_count": 7,
      "outputs": [
        {
          "output_type": "stream",
          "name": "stdout",
          "text": [
            "\u001b[1mHinge Loss\u001b[0m\n",
            "Precision score : 0.95125\n",
            "Recall score : 0.94\n",
            "Confusion Matrix\n"
          ]
        },
        {
          "output_type": "execute_result",
          "data": {
            "text/plain": [
              "array([[19,  0,  0],\n",
              "       [ 0, 15,  3],\n",
              "       [ 0,  0, 13]])"
            ]
          },
          "metadata": {},
          "execution_count": 7
        }
      ]
    },
    {
      "cell_type": "code",
      "source": [],
      "metadata": {
        "id": "B2ZeCNRp6zso"
      },
      "execution_count": null,
      "outputs": []
    }
  ]
}