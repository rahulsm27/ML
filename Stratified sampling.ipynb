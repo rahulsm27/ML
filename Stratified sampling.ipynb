{
  "nbformat": 4,
  "nbformat_minor": 0,
  "metadata": {
    "colab": {
      "provenance": [],
      "authorship_tag": "ABX9TyO64g/cryL+Bn8ACohekXue",
      "include_colab_link": true
    },
    "kernelspec": {
      "name": "python3",
      "display_name": "Python 3"
    },
    "language_info": {
      "name": "python"
    }
  },
  "cells": [
    {
      "cell_type": "markdown",
      "metadata": {
        "id": "view-in-github",
        "colab_type": "text"
      },
      "source": [
        "<a href=\"https://colab.research.google.com/github/rahulsm27/ML/blob/main/Stratified%20sampling.ipynb\" target=\"_parent\"><img src=\"https://colab.research.google.com/assets/colab-badge.svg\" alt=\"Open In Colab\"/></a>"
      ]
    },
    {
      "cell_type": "code",
      "execution_count": 4,
      "metadata": {
        "id": "0vH68WnA_SZw"
      },
      "outputs": [],
      "source": [
        "import pandas as pd\n",
        "from sklearn import datasets\n",
        "\n",
        "iris = datasets.load_iris()"
      ]
    },
    {
      "cell_type": "code",
      "source": [
        "iris_df=pd.DataFrame(iris.data)\n",
        "\n",
        "iris_df['class']=iris.target\n",
        "iris_df.columns=['sepal_len', 'sepal_wid', 'petal_len', 'petal_wid', 'class']"
      ],
      "metadata": {
        "id": "pD3xgFG1_UyF"
      },
      "execution_count": 10,
      "outputs": []
    },
    {
      "cell_type": "code",
      "source": [
        "iris_df['class'].value_counts()"
      ],
      "metadata": {
        "colab": {
          "base_uri": "https://localhost:8080/"
        },
        "id": "4s8O5PJi_bXt",
        "outputId": "d7c8640e-9be4-42f8-9104-91d49e7069f6"
      },
      "execution_count": 13,
      "outputs": [
        {
          "output_type": "execute_result",
          "data": {
            "text/plain": [
              "0    50\n",
              "1    50\n",
              "2    50\n",
              "Name: class, dtype: int64"
            ]
          },
          "metadata": {},
          "execution_count": 13
        }
      ]
    },
    {
      "cell_type": "code",
      "source": [
        "\n"
      ],
      "metadata": {
        "id": "xSqRNI_Z_16f"
      },
      "execution_count": 33,
      "outputs": []
    },
    {
      "cell_type": "code",
      "source": [
        "import numpy as np\n",
        "from sklearn.model_selection import StratifiedShuffleSplit\n",
        "skf = StratifiedShuffleSplit(n_splits=2, train_size = .8)\n",
        "X = iris_df.iloc[:,:-1]\n",
        "y = iris_df.iloc[:,-1]\n",
        "\n"
      ],
      "metadata": {
        "id": "0nHunQp4BVjC"
      },
      "execution_count": 29,
      "outputs": []
    },
    {
      "cell_type": "code",
      "source": [
        "for i, (train_index, test_index) in enumerate(skf.split(X, y)):\n",
        "    print(f\"Fold {i}:\")\n",
        "   # print(f\"  Train: index={train_index}\")\n",
        "    print(f\" {iris_df.iloc[train_index]['class'].value_counts()}\")\n",
        "    print(\"-\"*10)\n",
        "    print(f\" {iris_df.iloc[test_index]['class'].value_counts()}\")\n",
        "    print(\"*\" * 60)\n",
        "   # print(f\"  Test:  index={test_index}\")"
      ],
      "metadata": {
        "colab": {
          "base_uri": "https://localhost:8080/"
        },
        "id": "JYxVj8q1BpBe",
        "outputId": "e08e0de8-902a-4357-ece7-c4bc96a8e2bd"
      },
      "execution_count": 33,
      "outputs": [
        {
          "output_type": "stream",
          "name": "stdout",
          "text": [
            "Fold 0:\n",
            " 2    40\n",
            "1    40\n",
            "0    40\n",
            "Name: class, dtype: int64\n",
            "----------\n",
            " 2    10\n",
            "1    10\n",
            "0    10\n",
            "Name: class, dtype: int64\n",
            "************************************************************\n",
            "Fold 1:\n",
            " 2    40\n",
            "1    40\n",
            "0    40\n",
            "Name: class, dtype: int64\n",
            "----------\n",
            " 2    10\n",
            "0    10\n",
            "1    10\n",
            "Name: class, dtype: int64\n",
            "************************************************************\n"
          ]
        }
      ]
    },
    {
      "cell_type": "code",
      "source": [
        "from sklearn.model_selection import train_test_split\n",
        "X_train, X_test, y_train, y_test= train_test_split(X,y, train_size=0.8, random_state=None, shuffle=True, stratify=None)\n"
      ],
      "metadata": {
        "id": "WJZZC7gYCFp4"
      },
      "execution_count": 36,
      "outputs": []
    },
    {
      "cell_type": "code",
      "source": [
        "print(y_train.value_counts())\n",
        "print(y_test.value_counts())"
      ],
      "metadata": {
        "colab": {
          "base_uri": "https://localhost:8080/"
        },
        "id": "50KrreccDsG2",
        "outputId": "86f701bb-54ec-48a0-a3da-3cba7848d183"
      },
      "execution_count": 41,
      "outputs": [
        {
          "output_type": "stream",
          "name": "stdout",
          "text": [
            "2    44\n",
            "1    42\n",
            "0    34\n",
            "Name: class, dtype: int64\n",
            "0    16\n",
            "1     8\n",
            "2     6\n",
            "Name: class, dtype: int64\n"
          ]
        }
      ]
    },
    {
      "cell_type": "code",
      "source": [
        "from sklearn.model_selection import train_test_split\n",
        "X_train, X_test, y_train, y_test= train_test_split(X,y, train_size=0.8, random_state=None, shuffle=True, stratify=y)\n"
      ],
      "metadata": {
        "id": "oDZB5QRxD_I9"
      },
      "execution_count": 44,
      "outputs": []
    },
    {
      "cell_type": "code",
      "source": [
        "print(y_train.value_counts())\n",
        "print(y_test.value_counts())"
      ],
      "metadata": {
        "colab": {
          "base_uri": "https://localhost:8080/"
        },
        "id": "kQTKlfYKEMfZ",
        "outputId": "41e2f128-7db0-4a8e-eeb7-2ef86d5c7146"
      },
      "execution_count": 45,
      "outputs": [
        {
          "output_type": "stream",
          "name": "stdout",
          "text": [
            "0    40\n",
            "1    40\n",
            "2    40\n",
            "Name: class, dtype: int64\n",
            "0    10\n",
            "1    10\n",
            "2    10\n",
            "Name: class, dtype: int64\n"
          ]
        }
      ]
    },
    {
      "cell_type": "code",
      "source": [],
      "metadata": {
        "id": "GbfHP_DiEaCN"
      },
      "execution_count": null,
      "outputs": []
    }
  ]
}