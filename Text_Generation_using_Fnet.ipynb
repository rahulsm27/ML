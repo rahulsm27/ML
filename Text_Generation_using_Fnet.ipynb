{
  "nbformat": 4,
  "nbformat_minor": 0,
  "metadata": {
    "colab": {
      "provenance": [],
      "authorship_tag": "ABX9TyNerAcR/SUIAKMncFp4lm2e",
      "include_colab_link": true
    },
    "kernelspec": {
      "name": "python3",
      "display_name": "Python 3"
    },
    "language_info": {
      "name": "python"
    }
  },
  "cells": [
    {
      "cell_type": "markdown",
      "metadata": {
        "id": "view-in-github",
        "colab_type": "text"
      },
      "source": [
        "<a href=\"https://colab.research.google.com/github/rahulsm27/ML/blob/main/Text_Generation_using_Fnet.ipynb\" target=\"_parent\"><img src=\"https://colab.research.google.com/assets/colab-badge.svg\" alt=\"Open In Colab\"/></a>"
      ]
    },
    {
      "cell_type": "code",
      "source": [
        "!pip install datasets"
      ],
      "metadata": {
        "colab": {
          "base_uri": "https://localhost:8080/"
        },
        "id": "_gaqC--Vin3c",
        "outputId": "f94ed286-d120-45c7-81d0-5e4664441f0e"
      },
      "execution_count": 2,
      "outputs": [
        {
          "output_type": "stream",
          "name": "stdout",
          "text": [
            "Requirement already satisfied: datasets in /usr/local/lib/python3.10/dist-packages (2.15.0)\n",
            "Requirement already satisfied: numpy>=1.17 in /usr/local/lib/python3.10/dist-packages (from datasets) (1.23.5)\n",
            "Requirement already satisfied: pyarrow>=8.0.0 in /usr/local/lib/python3.10/dist-packages (from datasets) (9.0.0)\n",
            "Requirement already satisfied: pyarrow-hotfix in /usr/local/lib/python3.10/dist-packages (from datasets) (0.5)\n",
            "Requirement already satisfied: dill<0.3.8,>=0.3.0 in /usr/local/lib/python3.10/dist-packages (from datasets) (0.3.7)\n",
            "Requirement already satisfied: pandas in /usr/local/lib/python3.10/dist-packages (from datasets) (1.5.3)\n",
            "Requirement already satisfied: requests>=2.19.0 in /usr/local/lib/python3.10/dist-packages (from datasets) (2.31.0)\n",
            "Requirement already satisfied: tqdm>=4.62.1 in /usr/local/lib/python3.10/dist-packages (from datasets) (4.66.1)\n",
            "Requirement already satisfied: xxhash in /usr/local/lib/python3.10/dist-packages (from datasets) (3.4.1)\n",
            "Requirement already satisfied: multiprocess in /usr/local/lib/python3.10/dist-packages (from datasets) (0.70.15)\n",
            "Requirement already satisfied: fsspec[http]<=2023.10.0,>=2023.1.0 in /usr/local/lib/python3.10/dist-packages (from datasets) (2023.6.0)\n",
            "Requirement already satisfied: aiohttp in /usr/local/lib/python3.10/dist-packages (from datasets) (3.8.6)\n",
            "Requirement already satisfied: huggingface-hub>=0.18.0 in /usr/local/lib/python3.10/dist-packages (from datasets) (0.19.4)\n",
            "Requirement already satisfied: packaging in /usr/local/lib/python3.10/dist-packages (from datasets) (23.2)\n",
            "Requirement already satisfied: pyyaml>=5.1 in /usr/local/lib/python3.10/dist-packages (from datasets) (6.0.1)\n",
            "Requirement already satisfied: attrs>=17.3.0 in /usr/local/lib/python3.10/dist-packages (from aiohttp->datasets) (23.1.0)\n",
            "Requirement already satisfied: charset-normalizer<4.0,>=2.0 in /usr/local/lib/python3.10/dist-packages (from aiohttp->datasets) (3.3.2)\n",
            "Requirement already satisfied: multidict<7.0,>=4.5 in /usr/local/lib/python3.10/dist-packages (from aiohttp->datasets) (6.0.4)\n",
            "Requirement already satisfied: async-timeout<5.0,>=4.0.0a3 in /usr/local/lib/python3.10/dist-packages (from aiohttp->datasets) (4.0.3)\n",
            "Requirement already satisfied: yarl<2.0,>=1.0 in /usr/local/lib/python3.10/dist-packages (from aiohttp->datasets) (1.9.2)\n",
            "Requirement already satisfied: frozenlist>=1.1.1 in /usr/local/lib/python3.10/dist-packages (from aiohttp->datasets) (1.4.0)\n",
            "Requirement already satisfied: aiosignal>=1.1.2 in /usr/local/lib/python3.10/dist-packages (from aiohttp->datasets) (1.3.1)\n",
            "Requirement already satisfied: filelock in /usr/local/lib/python3.10/dist-packages (from huggingface-hub>=0.18.0->datasets) (3.13.1)\n",
            "Requirement already satisfied: typing-extensions>=3.7.4.3 in /usr/local/lib/python3.10/dist-packages (from huggingface-hub>=0.18.0->datasets) (4.5.0)\n",
            "Requirement already satisfied: idna<4,>=2.5 in /usr/local/lib/python3.10/dist-packages (from requests>=2.19.0->datasets) (3.4)\n",
            "Requirement already satisfied: urllib3<3,>=1.21.1 in /usr/local/lib/python3.10/dist-packages (from requests>=2.19.0->datasets) (2.0.7)\n",
            "Requirement already satisfied: certifi>=2017.4.17 in /usr/local/lib/python3.10/dist-packages (from requests>=2.19.0->datasets) (2023.7.22)\n",
            "Requirement already satisfied: python-dateutil>=2.8.1 in /usr/local/lib/python3.10/dist-packages (from pandas->datasets) (2.8.2)\n",
            "Requirement already satisfied: pytz>=2020.1 in /usr/local/lib/python3.10/dist-packages (from pandas->datasets) (2023.3.post1)\n",
            "Requirement already satisfied: six>=1.5 in /usr/local/lib/python3.10/dist-packages (from python-dateutil>=2.8.1->pandas->datasets) (1.16.0)\n"
          ]
        }
      ]
    },
    {
      "cell_type": "code",
      "execution_count": 3,
      "metadata": {
        "id": "z7BDQtHbgHwW"
      },
      "outputs": [],
      "source": [
        "import torch"
      ]
    },
    {
      "cell_type": "code",
      "source": [
        "from datasets import load_dataset\n",
        "datasets = load_dataset('wikitext','wikitext-2-raw-v1')"
      ],
      "metadata": {
        "id": "8LurSU1rgSm0"
      },
      "execution_count": 4,
      "outputs": []
    },
    {
      "cell_type": "code",
      "source": [
        "datasets"
      ],
      "metadata": {
        "colab": {
          "base_uri": "https://localhost:8080/"
        },
        "id": "KJtLNGM4imZ_",
        "outputId": "5d5836a4-ca6e-4840-99f3-87b1bfa1dc7d"
      },
      "execution_count": 5,
      "outputs": [
        {
          "output_type": "execute_result",
          "data": {
            "text/plain": [
              "DatasetDict({\n",
              "    test: Dataset({\n",
              "        features: ['text'],\n",
              "        num_rows: 4358\n",
              "    })\n",
              "    train: Dataset({\n",
              "        features: ['text'],\n",
              "        num_rows: 36718\n",
              "    })\n",
              "    validation: Dataset({\n",
              "        features: ['text'],\n",
              "        num_rows: 3760\n",
              "    })\n",
              "})"
            ]
          },
          "metadata": {},
          "execution_count": 5
        }
      ]
    },
    {
      "cell_type": "code",
      "source": [
        "preprocess_text(datasets['train'][10])"
      ],
      "metadata": {
        "colab": {
          "base_uri": "https://localhost:8080/"
        },
        "id": "nJQfm0zki0ia",
        "outputId": "275adb7c-73a6-47d1-ed70-c820c7a280ef"
      },
      "execution_count": 62,
      "outputs": [
        {
          "output_type": "execute_result",
          "data": {
            "text/plain": [
              "{'text': ' the game s battle system , the blitz system , is carried over directly from valkyira chronicles . during missions , players select each unit using a top down perspective of the battlefield map once a character is selected , the player moves the character around the battlefield in third person . a character can only act once per turn , but characters can be granted multiple turns at the expense of other characters turns . each character has a field and distance of movement limited by their action gauge . up to nine characters can be assigned to a single mission . during gameplay , characters will call out if something happens to them , such as their health points hp getting low or being knocked out by enemy attacks . each character has specific potentials , skills unique to each character . they are divided into personal potential , which are innate skills that remain unaltered unless otherwise dictated by the story and can either help or impede a character , and battle potentials , which are grown throughout the game and always grant boons to a character . to learn battle potentials , each character has a unique masters table , a grid based skill table that can be used to acquire and link different skills . characters also have special abilities that grant them temporary boosts on the battlefield kurt can activate direct command and move around the battlefield without depleting his action point gauge , the character reila can shift into her valkyria form and become invincible , while imca can target multiple enemy units with her heavy weapon . '}"
            ]
          },
          "metadata": {},
          "execution_count": 62
        }
      ]
    },
    {
      "cell_type": "code",
      "source": [
        "import re\n",
        "def preprocess_text(sentence):\n",
        "  text = sentence['text'].lower() # lowering the sentence and storing in text vaiable\n",
        "  text = re.sub('[^a-z?!.,]',' ',text) # removing other than characters and punctuations\n",
        "  text = re.sub('\\s\\s+',' ',text) # removing double spaces\n",
        "  sentence['text'] = text\n",
        "  return sentence\n",
        "\n"
      ],
      "metadata": {
        "id": "LaLayNePv61c"
      },
      "execution_count": 61,
      "outputs": []
    },
    {
      "cell_type": "code",
      "source": [],
      "metadata": {
        "id": "szzyfA19xspG"
      },
      "execution_count": null,
      "outputs": []
    },
    {
      "cell_type": "code",
      "source": [
        "datasets['train'] = datasets['train'].map(preprocess_text)"
      ],
      "metadata": {
        "id": "btKuKpLbwJPp"
      },
      "execution_count": 65,
      "outputs": []
    },
    {
      "cell_type": "code",
      "source": [
        "for i in range(100):\n",
        "  print (datasets['train'][i])"
      ],
      "metadata": {
        "colab": {
          "base_uri": "https://localhost:8080/"
        },
        "id": "KVJaUR74wS1r",
        "outputId": "46188d77-7c76-4c9d-aec5-7ea54404e593"
      },
      "execution_count": 74,
      "outputs": [
        {
          "output_type": "stream",
          "name": "stdout",
          "text": [
            "{'text': ''}\n",
            "{'text': ' valkyria chronicles iii '}\n",
            "{'text': ''}\n",
            "{'text': ' senj no valkyria unrecorded chronicles japanese , lit . valkyria of the battlefield , commonly referred to as valkyria chronicles iii outside japan , is a tactical role playing video game developed by sega and media.vision for the playstation portable . released in january in japan , it is the third game in the valkyria series . employing the same fusion of tactical and real time gameplay as its predecessors , the story runs parallel to the first game and follows the nameless , a penal military unit serving the nation of gallia during the second europan war who perform secret black operations and are pitted against the imperial unit calamaty raven . '}\n",
            "{'text': ' the game began development in , carrying over a large portion of the work done on valkyria chronicles ii . while it retained the standard features of the series , it also underwent multiple adjustments , such as making the game more forgiving for series newcomers . character designer raita honjou and composer hitoshi sakimoto both returned from previous entries , along with valkyria chronicles ii director takeshi ozawa . a large team of writers handled the script . the game s opening theme was sung by may n . '}\n",
            "{'text': ' it met with positive sales in japan , and was praised by both japanese and western critics . after release , it received downloadable content , along with an expanded edition in november of that year . it was also adapted into manga and an original video animation series . due to low sales of valkyria chronicles ii , valkyria chronicles iii was not localized , but a fan translation compatible with the game s expanded edition was released in . media.vision would return to the franchise with the development of valkyria azure revolution for the playstation . '}\n",
            "{'text': ''}\n",
            "{'text': ' gameplay '}\n",
            "{'text': ''}\n",
            "{'text': ' as with previous valkyira chronicles games , valkyria chronicles iii is a tactical role playing game where players take control of a military unit and take part in missions against enemy forces . stories are told through comic book like panels with animated character portraits , with characters speaking partially through voiced speech bubbles and partially through unvoiced text . the player progresses through a series of linear missions , gradually unlocked as maps that can be freely scanned through and replayed as they are unlocked . the route to each story location on the map varies depending on an individual player s approach when one option is selected , the other is sealed off to the player . outside missions , the player characters rest in a camp , where units can be customized and character growth occurs . alongside the main story missions are character specific sub missions relating to different squad members . after the game s completion , additional episodes are unlocked , some of them having a higher difficulty than those found in the rest of the game . there are also love simulation elements related to the game s two main heroines , although they take a very minor role . '}\n",
            "{'text': ' the game s battle system , the blitz system , is carried over directly from valkyira chronicles . during missions , players select each unit using a top down perspective of the battlefield map once a character is selected , the player moves the character around the battlefield in third person . a character can only act once per turn , but characters can be granted multiple turns at the expense of other characters turns . each character has a field and distance of movement limited by their action gauge . up to nine characters can be assigned to a single mission . during gameplay , characters will call out if something happens to them , such as their health points hp getting low or being knocked out by enemy attacks . each character has specific potentials , skills unique to each character . they are divided into personal potential , which are innate skills that remain unaltered unless otherwise dictated by the story and can either help or impede a character , and battle potentials , which are grown throughout the game and always grant boons to a character . to learn battle potentials , each character has a unique masters table , a grid based skill table that can be used to acquire and link different skills . characters also have special abilities that grant them temporary boosts on the battlefield kurt can activate direct command and move around the battlefield without depleting his action point gauge , the character reila can shift into her valkyria form and become invincible , while imca can target multiple enemy units with her heavy weapon . '}\n",
            "{'text': ' troops are divided into five classes scouts , shocktroopers , engineers , lancers and armored soldier . troopers can switch classes by changing their assigned weapon . changing class does not greatly affect the stats gained while in a previous class . with victory in battle , experience points are awarded to the squad , which are distributed into five different attributes shared by the entire squad , a feature differing from early games method of distributing to different unit types . '}\n",
            "{'text': ''}\n",
            "{'text': ' plot '}\n",
            "{'text': ''}\n",
            "{'text': ' the game takes place during the second europan war . gallian army squad , also known as the nameless , are a penal military unit composed of criminals , foreign deserters , and military offenders whose real names are erased from the records and thereon officially referred to by numbers . ordered by the gallian military to perform the most dangerous missions that the regular army and militia will not do , they are nevertheless up to the task , exemplified by their motto , altaha abilia , meaning always ready . the three main characters are no. kurt irving , an army officer falsely accused of treason who wishes to redeem himself ace no. imca , a female darcsen heavy weapons specialist who seeks revenge against the valkyria who destroyed her home and no. riela marcellis , a seemingly jinxed young woman who is unknowingly a descendant of the valkyria . together with their fellow squad members , these three are tasked to fight against a mysterious imperial unit known as calamity raven , consisting of mostly darcsen soldiers . '}\n",
            "{'text': ' as the nameless officially do not exist , the upper echelons of the gallian army exploit the concept of plausible deniability in order to send them on missions that would otherwise make gallia lose face in the war . while at times this works to their advantage , such as a successful incursion into imperial territory , other orders cause certain members of the nd great distress . one such member , gusurg , becomes so enraged that he abandons his post and defects into the ranks of calamity raven , attached to the ideal of darcsen independence proposed by their leader , dahau . at the same time , elements within gallian army command move to erase the nameless in order to protect their own interests . hounded by both allies and enemies , and combined with the presence of a traitor within their ranks , the nd desperately move to keep themselves alive while at the same time fight to help the gallian war effort . this continues until the nameless s commanding officer , ramsey crowe , who had been kept under house arrest , is escorted to the capital city of randgriz in order to present evidence exonerating the weary soldiers and expose the real traitor , the gallian general that had accused kurt of treason . '}\n",
            "{'text': ' partly due to these events , and partly due to the major losses in manpower gallia suffers towards the end of the war with the empire , the nameless are offered a formal position as a squad in the gallian army rather than serve as an anonymous shadow force . this is short lived , however , as following maximilian s defeat , dahau and calamity raven move to activate an ancient valkyrian super weapon within the empire , kept secret by their benefactor . without the support of maximilian or the chance to prove themselves in the war with gallia , it is dahau s last trump card in creating a new darcsen nation . as an armed gallian force invading the empire just following the two nations cease fire would certainly wreck their newfound peace , kurt decides to once again make his squad the nameless , asking crowe to list himself and all under his command as killed in action . now owing allegiance to none other than themselves , the nd confronts dahau and destroys the valkyrian weapon . each member then goes their separate ways in order to begin their lives anew . '}\n",
            "{'text': ''}\n",
            "{'text': ' development '}\n",
            "{'text': ''}\n",
            "{'text': ' concept work for valkyria chronicles iii began after development finished on valkyria chronicles ii in early , with full development beginning shortly after this . the director of valkyria chronicles ii , takeshi ozawa , returned to that role for valkyria chronicles iii . development work took approximately one year . after the release of valkyria chronicles ii , the staff took a look at both the popular response for the game and what they wanted to do next for the series . like its predecessor , valkyria chronicles iii was developed for playstation portable this was due to the team wanting to refine the mechanics created for valkyria chronicles ii , and they had not come up with the revolutionary idea that would warrant a new entry for the playstation . speaking in an interview , it was stated that the development team considered valkyria chronicles iii to be the series first true sequel while valkyria chronicles ii had required a large amount of trial and error during development due to the platform move , the third game gave them a chance to improve upon the best parts of valkyria chronicles ii due to being on the same platform . in addition to sega staff from the previous games , development work was also handled by media.vision. the original scenario was written kazuki yamanobe , while the script was written by hiroyuki fujii , koichi majima , kishiko miyagi , seiki nagakawa and takayuki shouji . its story was darker and more somber than that of its predecessor . '}\n",
            "{'text': ' the majority of material created for previous games , such as the blitz system and the design of maps , was carried over . alongside this , improvements were made to the game s graphics and some elements were expanded , such as map layouts , mission structure , and the number of playable units per mission . a part of this upgrade involved creating unique polygon models for each character s body . in order to achieve this , the cooperative elements incorporated into the second game were removed , as they took up a large portion of memory space needed for the improvements . they also adjusted the difficulty settings and ease of play so they could appeal to new players while retaining the essential components of the series gameplay . the newer systems were decided upon early in development . the character designs were done by raita honjou , who had worked on the previous valkyria chronicles games . when creating the nameless squad , honjou was faced with the same problem he had had during the first game the military uniforms essentially destroyed character individuality , despite him needing to create unique characters the player could identify while maintaining a sense of reality within the valkyria chronicles world . the main color of the nameless was black . as with the previous valkyria games , valkyria chronicles iii used the canvas graphics engine . the anime opening was produced by production i.g. '}\n",
            "{'text': ''}\n",
            "{'text': ' music '}\n",
            "{'text': ''}\n",
            "{'text': ' the music was composed by hitoshi sakimoto , who had also worked on the previous valkyria chronicles games . when he originally heard about the project , he thought it would be a light tone similar to other valkyria chronicles games , but found the themes much darker than expected . an early theme he designed around his original vision of the project was rejected . he redid the main theme about seven times through the music production due to this need to reassess the game . the main theme was initially recorded using orchestra , then sakimoto removed elements such as the guitar and bass , then adjusted the theme using a synthesizer before redoing segments such as the guitar piece on their own before incorporating them into the theme . the rejected main theme was used as a hopeful tune that played during the game s ending . the battle themes were designed around the concept of a modern battle divorced from a fantasy scenario by using modern musical instruments , constructed to create a sense of atonality . while sakimoto was most used to working with synthesized music , he felt that he needed to incorporate live instruments such as orchestra and guitar . the guitar was played by mitsuhiro ohta , who also arranged several of the later tracks . the game s opening theme song , if you wish for ... , moshimo kimi ga negauno nara , was sung by japanese singer may n . its theme was the reason soldiers fought , in particular their wish to protect what was precious to them rather than a sense of responsibility or duty . its lyrics were written by seiko fujibayashi , who had worked on may n on previous singles . '}\n",
            "{'text': ''}\n",
            "{'text': ' release '}\n",
            "{'text': ''}\n",
            "{'text': ' in september , a teaser website was revealed by sega , hinting at a new valkyria chronicles game . in its september issue , famitsu listed that senj no valkyria would be arriving on the playstation portable . its first public appearance was at the tokyo game show tgs , where a demo was made available for journalists and attendees . during the publicity , story details were kept scant so as not to spoil too much for potential players , along with some of its content still being in flux at the time of its reveal . to promote the game and detail the story leading into the game s events , an episodic flash visual novel written by fujii began release in january . the game was released january , . during an interview , the development team said that the game had the capacity for downloadable content dlc , but that no plans were finalized . multiple dlc maps , featuring additional missions and recruitable characters , were released between february and april . an expanded edition of the game , valkyria chronicles iii extra edition , released on november , . packaged and sold at a lower price than the original , extra edition game with seven additional episodes three new , three chosen by staff from the game s dlc , and one made available as a pre order bonus . people who also owned the original game could transfer their save data between versions . '}\n",
            "{'text': ' unlike its two predecessors , valkyria chronicles iii was not released in the west . according to sega , this was due to poor sales of valkyria chronicles ii and the general unpopularity of the psp in the west . an unofficial fan translation patch began development in february players with a copy of valkyria chronicles iii could download and apply the patch , which translated the game s text into english . compatible with the extra edition , the patch was released in january . '}\n",
            "{'text': ''}\n",
            "{'text': ' reception '}\n",
            "{'text': ''}\n",
            "{'text': ' on its day of release in japan , valkyria chronicles iii topped both platform exclusive and multi platform sales charts . by early february , the game sold , units , coming in second overall to the last story for the wii . by the end of the year , the game had sold just over , units . '}\n",
            "{'text': ' famitsu enjoyed the story , and were particularly pleased with the improvements to gameplay . japanese gaming site game watch impress , despite negatively noting its pacing and elements recycled from previous games , was generally positive about its story and characters , and found its gameplay entertaining despite off putting difficulty spikes . gamer.net writer naohiko misuosame , in a play test article based on the game s psn demo , felt that valkyria chronicles iii provided a profound feeling of closure for the valkyria chronicles series . he praised its gameplay despite annoying limitations to aspects such as special abilities , and positively noted its shift in story to a tone similar to the first game . '}\n",
            "{'text': ' playstation official magazine uk praised the story s blurring of gallia s moral standing , art style , and most points about its gameplay , positively noting the latter for both its continued quality and the tweaks to balance and content . its one major criticism were multiple difficulty spikes , something that had affected the previous games . heath hindman of gaming website playstation lifestyle praised the addition of non linear elements and improvements or removal of mechanics from valkyria chronicles ii in addition to praising the returning gameplay style of previous games . he also positively noted the story s serious tone . points criticized in the review were recycled elements , awkward cutscenes that seemed to include all characters in a scene for no good reason , pacing issues , and occasional problems with the game s ai . '}\n",
            "{'text': ' in a preview of the tgs demo , ryan geddes of ign was left excited as to where the game would go after completing the demo , along with enjoying the improved visuals over valkyria chronicles ii . kotaku s richard eisenbeis was highly positive about the game , citing is story as a return to form after valkyria chronicles ii and its gameplay being the best in the series . his main criticisms were its length and gameplay repetition , along with expressing regret that it would not be localized . '}\n",
            "{'text': ''}\n",
            "{'text': ' legacy '}\n",
            "{'text': ''}\n",
            "{'text': ' kurt and riela were featured in the nintendo ds crossover project x zone , representing the valkyria series . media.vision would return to the series to develop valkyria azure revolution , with ozawa returning as director . azure revolution is a role playing video game for the playstation that forms the beginning of a new series within the valkyria franchise . '}\n",
            "{'text': ''}\n",
            "{'text': ' adaptations '}\n",
            "{'text': ''}\n",
            "{'text': ' valkyria chronicles was adapted into a two episode original video animation series in the same year of its release . titled senj no valkyria taga tame no j s , lit . valkyria of the battlefield the wound taken for someone s sake , it was originally released through playstation network and qriocity between april and may . the initially planned release and availability period needed to be extended due to a stoppage to psn during the early summer of that year . it later released for dvd on june and august , , with separate black and blue editions being available for purchase . the anime is set during the latter half of valkyria chronicles iii , detailing a mission by the nameless against their imperial rivals calamity raven . the anime was first announced in november . it was developed by a pictures , produced by shinji motoyama , directed by nobuhiro kond , and written by hiroshi nogi . sakimoto s music for the game was used in the anime . '}\n",
            "{'text': ' the anime s title was inspired by the principle purpose of the nameless to suffer in battle for the goals of others . a subtitle attached to the project during development was the road to kubinka , which referenced the kubinka tank museum in moscow . the game s main theme was how the characters regained their sense of self when stripped of their names and identities , along with general themes focused on war and its consequences . while making the anime , the production team were told by sega to make it as realistic as possible , with the consequence that the team did extensive research into aspects such as what happened when vehicles like tanks were overturned or damaged . due to it being along the same timeline as the original game and its television anime adaptation , the cast of valkyria chronicles could make appearances , which pleased the team . the opening theme , akari light tomoshibi tomoshibi , was sung by japanese singer faylan . the ending theme , someday the flowers of light will bloom , itsuka saku hikari no hana , was sung by minami kuribayashi . both songs lyrics were written by their respective artists . '}\n",
            "{'text': ' two manga adaptations were produced , following each of the game s main female protagonists imca and riela . they were senj no valkyria namo naki chikai no hana , lit . valkyria of the battlefield the flower of the nameless oath , illustrated by naoyuki fujisawa and eventually released in two volumes after being serialized in dengeki maoh between and and senj no valkyria akaki unmei no ikusa otome , lit . valkyria of the battlefield the valkyrie of the crimson fate , illustrated by mizuki tsuge and eventually released in a single volume by kadokawa shoten in . '}\n",
            "{'text': ''}\n",
            "{'text': ''}\n",
            "{'text': ' tower building of the little rock arsenal '}\n",
            "{'text': ''}\n",
            "{'text': ' the tower building of the little rock arsenal , also known as u.s. arsenal building , is a building located in macarthur park in downtown little rock , arkansas . built in , it was part of little rock s first military installation . since its decommissioning , the tower building has housed two museums . it was home to the arkansas museum of natural history and antiquities from to and the macarthur museum of arkansas military history since . it has also been the headquarters of the little rock sthetic club since . '}\n",
            "{'text': ' the building receives its name from its distinct octagonal tower . besides being the last remaining structure of the original little rock arsenal and one of the oldest buildings in central arkansas , it was also the birthplace of general douglas macarthur , who became the supreme commander of us forces in the south pacific during world war ii . it was also the starting place of the camden expedition . in it was named as one of the top attractions in the state of arkansas by arkansas.com. '}\n",
            "{'text': ''}\n",
            "{'text': ' construction '}\n",
            "{'text': ''}\n",
            "{'text': ' the arsenal was constructed at the request of governor james sevier conway in response to the perceived dangers of frontier life and fears of the many native americans who were passing through the state on their way to the newly established oklahoma territory . thirty six acres were appropriated on the outskirts of little rock by major robert b. lee of the u.s. army . the land had been previously used as a racetrack by the local jockey club . john wormley walker , a builder for the federal government , supervised the construction . originally , was allocated for the construction of the arsenal , but proved inadequate . the budget was later increased to , . work began on the tower building in , and it was the first permanent structure of the arsenal to be built . being originally constructed to store ammunition , the building was designed with foot thick . m exterior walls . the original plans called for it to be built of stone , however , masonry was used instead . the arkansas gazette referred to the structure as a splendid specimen of masonry . '}\n",
            "{'text': ''}\n",
            "{'text': ' civil war '}\n",
            "{'text': ''}\n",
            "{'text': ' for several years the arsenal , which was owned by the federal government , served as a simple arms depot and was staffed with only a handful of soldiers . but in november , with the american civil war on the horizon , a company of the second united states artillery , consisting of sixty five men , was transferred to little rock under the command of captain james totten . on january , , the state legislature decided to hold a referendum to determine if a state convention should be held to consider the issue of secession and to elect delegates to such a convention . it was planned for february however , events at the arsenal , would not wait . on january , then governor henry massey rector informed captain totten that he and his soldiers would be permitted to remain in the possession of the federal officers until the state , by authority of the people , shall have determined to sever their connection with the general government , totten responded to this by telling the governor that his orders came from the united states government and began a desperate but ultimately futile dispatch of letters and telegrams asking for reinforcements , although rumors were widely spread that they were already coming . the first telegraph wire to span between little rock and memphis had recently been completed . local attorney john m harrel was asked to compose the first telegraph dispatched from arkansas s capital . in his message , harrel reported unconfirmed rumors that more federal troops had been sent to reinforce the little rock arsenal . '}\n",
            "{'text': ' the united states troops at the outposts of the western frontier of the state and in the indian nation have all been recalled from winter quarters to reinforce the garrison at fort smith . the garrison at fort smith had been previously transferred to the united states arsenal in this city little rock . the arsenal is one of the richest depositories of military stores in the united states and is supposed to be the ultimate destination of the tropps sic ordered from the frontier . '}\n",
            "{'text': ' john m harrel telegram , january , '}\n",
            "{'text': ' the item was intended simply as a piece of news , but telegraph lines quickly spread the news throughout the state , fueling procession sentiment . the rumor was interpreted by some arkansans as a call from the governor to assemble to help expel the federal troops from the arsenal . by february , six militia units , consisting of , men , with a guarantee that the numbers could be increased to , if the situations deemed it necessary , had assembled in little rock . governor rector vehemently denied ordering the troops to assemble or giving any order at all in connection with the troops . faced with the fact that the military had assembled believing they were following his orders and the consensus of the citizens of little rock against any armed conflict between the civilian army and federal troops , governor rector was forced to take control of the situation . on february , he sent a formal demand for surrender of the arsenal to captain totten , '}\n",
            "{'text': ' this movement is prompted by the feeling that pervades the citizens of this state that in the present emergency the arms and munitions of war in the arsenal should be under the control of the state authorities , in order to their security . this movement , although not authorized by me , has assumed such an aspect that it becomes my duty , as the executive of this sate , to interpose my official authority to prevent a collision between the people of the state and the federal troops under your command . i therefore demand in the name of the state the delivery of the possession of the arsenal and munitions of war under your charge to the state authorities , to be held subject to the action of the convention to be held on the th of march next . '}\n",
            "{'text': ' perhaps because abraham lincoln had not yet been inaugurated as president , captain totten received no instructions from his superiors and was forced to withdraw his troops . he agreed to surrender the arsenal as long as the governor agreed to three provisions '}\n",
            "{'text': ' the governor would take possession of the arsenal in the name of the united states . '}\n",
            "{'text': ' the soldiers would be allowed safe passage in any direction carrying any personal and public property besides munitions of war . '}\n",
            "{'text': ' the soldiers would be allowed to march away as men leaving under orders , not as conquered and surrendering soldiers . '}\n",
            "{'text': ' on the morning of february , , rector and totten signed an agreement placing the arsenal in the hands of state officials . that afternoon , the citizen militia marched to the arsenal with governor rector at its head . all of the federal troops had left at this point , except totten who had stayed behind to listen to the governor s speech and to hand the arsenal over in person . '}\n",
            "{'text': ' the little rock arsenal was classified in as an arsenal of deposit , meaning that it was simply a warehouse for the storage of weapons intended for the use of the state militia in times of crisis . thus there were no substantial operations for ordnance fabrication or repairs , nor for the manufacture of cartridges at the time the arsenal fell into state hands . most of these operations were started from scratch through the efforts of the arkansas military board . '}\n",
            "{'text': ' inside the little rock arsenal after its seizure in february , , the confederates inventoried some , weapons , , musket cartridges , and , percussion caps , as well as the four bronze cannon of totten s battery . long arms in the arsenal s inventory consisted of '}\n",
            "{'text': ' m . cal flintlock , '}\n",
            "{'text': ' m . cal percussion converted '}\n",
            "{'text': ' m . cal smoothbore percussion '}\n",
            "{'text': ' m . cal rifle muskets '}\n",
            "{'text': ' m common rifles '}\n",
            "{'text': ' m rifle mississippi rifle '}\n",
            "{'text': ' m musketoon '}\n",
            "{'text': ' hall s carbines '}\n",
            "{'text': ' hall s rifles flintlock , '}\n",
            "{'text': ' total , '}\n",
            "{'text': ' of this number , approximately weapons were serviceable , or ready for issue . note there were only , percussion weapons available . disposition of the weapons found in the arsenal is somewhat sketchy , but from various records it can be surmised that the th , th , th , and th arkansas infantry regiments , mustered in june , , were issued m m . caliber flintlocks . the th and th arkansas , four companies of kelly s th arkansas battalion , and the rd arkansas cavalry regiment were issued flintlock hall s rifles . the units comprising the infantry force of van dorn s army of the west were the st and nd arkansas mounted rifles were also armed with m flintlocks from the little rock arsenal . by the time the th and th arkansas infantry regiments mustered in at little rock , the supply of arms had been almost completely exhausted , and only old junker weapons were left . '}\n",
            "{'text': ' most of the equipment , arms , and machinery at the little rock arsenal was removed to east of the mississippi river by order of maj. gen. earl van dorn in april and may , and accountability for it is lost at that point . by all appearances , the equipment was sent down the river to napoleon , arkansas , and from there to jackson mississippi , where it was probably destroyed during the vicksburg campaign in the early summer of . '}\n",
            "{'text': ' major general thomas c. hindman , sent to command the district of arkansas in may , , found the state nearly destitute of military material . hindman established another armory at arkadelphia , and revived the little rock arsenal as a collection point and depot for armaments and ammunition manufacture for small arms . hindman recorded '}\n",
            "{'text': ' machinery was made for manufacturing percussion caps and small arms , and both were turned out in small quantity , but of excellent quality . lead mines were opened and worked , and a chemical laboratory was established and successfully operated in aid of the ordnance department and in the manufacture of calomel , castor oil , spirits of nitre , the various tinctures of iron , and other valuable medicines . most of these works were located at or near arkadelphia on the ouachita river , miles south from little rock . the tools , machinery , and the material were gathered piecemeal or else made by hand labor . nothing of this sort had been before attempted on government account in arkansas to my knowledge , except for the manufacture of small arms , the machinery for which was taken away by general van dorn and there was neither capital nor sufficient enterprise among the citizens to engage in such undertakings a further supply , along with lead and caps , was procured from the citizens of little rock and vicinity by donation , purchases , and impressments . '}\n",
            "{'text': ' this ammunition , and that which i brought with me , was rapidly prepared for use at the laboratory established at the little rock arsenal for that purpose . as illustrating as the pitiful scarcity of material in the country , the fact may be stated that it was found necessary to use public documents of the state library for cartridge paper . gunsmiths were employed or conscripted , tools purchased or impressed , and the repair of the damaged guns i brought with me and about an equal number found at little rock commenced at once . but , after inspecting the work and observing the spirit of the men i decided that a garrison strong could hold out against fitch and that i would lead the remainder about to gen l rust as soon as shotguns and rifles could be obtained from little rock instead of pikes and lances , with which most of them were armed . two days elapsed before the change could be effected . '}\n",
            "{'text': ' the confederate ordnance establishment at little rock was reactivated in august , . looking around for a suitable person to head this activity , general hindman turned to the confederate navy and borrowed lieutenant john w. dunnington . lt. dunnington was the commander of the gunboat c.s.s. ponchartrain , which had been brought to little rock in hopes of converting it to an ironclad . dunnington was selected to head the ordnance works at little rock , and although he continued to draw his pay from the confederate navy department , he was placed in charge of all confederate ordnance activities which included artillery functions there with the rank of lieutenant colonel . '}\n",
            "{'text': ' lt. col. dunnington s returns for the month of august , , at little rock arsenal , c.s.a. , are found in vol . , chapter iv of the captured rebel ordnance records , and are most enlightening as to the scope of confederate ordnance activities at little rock during this crucial time . according to dunnington , when i assumed command at this post , all material had been removed to arkadelphia . there were no persons employed . no shops were open for repair of arms or for fabricating ammunition . material , tools , etc . , had to be procured as well as the employment of laborers . work commenced the last part of the month . '}\n",
            "{'text': ' the military force at little rock under dunnington s command consisted of four officers himself , major john b. lockman , captain c.c. green , and nd lt. w.w. murphy . in addition to these , he had enlisted men and a civilian force composed of a foreman , clerks , gunsmiths for repairing small arms , a laboratorian , laborers in the ammunition laboratory , and a carpenter for making packing boxes . '}\n",
            "{'text': ' during the month of august , , the following work was performed fabricated one pair of musket bullet moulds , buck ball shot cartridges repaired muskets , shotguns , and rifles received and repaired ordnance stores and ordnances performed guard , office , and police duties inspected posts at camden and arkadelphia . '}\n",
            "{'text': ' lt. col. dunnington continued to build up his works at little rock until november , when captain sanford c. faulkner composer of the arkansas traveler was placed in charge of the arsenal . dunnington presumably returned to his naval duties and the ponchartrain . '}\n",
            "{'text': ' a summary of the work done for november , , little rock arsenal shows fabrication '}\n",
            "{'text': ' , buck ball cartridges percussion '}\n",
            "{'text': ' , buck ball cartridges flint '}\n",
            "{'text': ' paper fuzes '}\n",
            "{'text': ' rounds , pounder canister shot '}\n",
            "{'text': ' rounds , pounder ball shot '}\n"
          ]
        }
      ]
    },
    {
      "cell_type": "code",
      "source": [],
      "metadata": {
        "id": "CAnci-An0uod"
      },
      "execution_count": null,
      "outputs": []
    }
  ]
}