{
  "nbformat": 4,
  "nbformat_minor": 0,
  "metadata": {
    "colab": {
      "provenance": [],
      "authorship_tag": "ABX9TyMz4w2YUiOfd0Iq70KSw12m",
      "include_colab_link": true
    },
    "kernelspec": {
      "name": "python3",
      "display_name": "Python 3"
    },
    "language_info": {
      "name": "python"
    }
  },
  "cells": [
    {
      "cell_type": "markdown",
      "metadata": {
        "id": "view-in-github",
        "colab_type": "text"
      },
      "source": [
        "<a href=\"https://colab.research.google.com/github/rahulsm27/ML/blob/main/SGDRegressor_california.ipynb\" target=\"_parent\"><img src=\"https://colab.research.google.com/assets/colab-badge.svg\" alt=\"Open In Colab\"/></a>"
      ]
    },
    {
      "cell_type": "code",
      "execution_count": 47,
      "metadata": {
        "id": "Tc6lAhYsfsug"
      },
      "outputs": [],
      "source": [
        "from sklearn.linear_model import SGDRegressor\n",
        "from sklearn.preprocessing import StandardScaler\n",
        "from sklearn import metrics\n",
        "import sklearn.datasets\n",
        "\n",
        "california = sklearn.datasets.fetch_california_housing()"
      ]
    },
    {
      "cell_type": "code",
      "source": [
        "california"
      ],
      "metadata": {
        "colab": {
          "base_uri": "https://localhost:8080/"
        },
        "id": "nU0CdzKHf2Ds",
        "outputId": "5b5eb341-b6f5-4e78-964e-554d613bee79"
      },
      "execution_count": 7,
      "outputs": [
        {
          "output_type": "execute_result",
          "data": {
            "text/plain": [
              "{'data': array([[   8.3252    ,   41.        ,    6.98412698, ...,    2.55555556,\n",
              "           37.88      , -122.23      ],\n",
              "        [   8.3014    ,   21.        ,    6.23813708, ...,    2.10984183,\n",
              "           37.86      , -122.22      ],\n",
              "        [   7.2574    ,   52.        ,    8.28813559, ...,    2.80225989,\n",
              "           37.85      , -122.24      ],\n",
              "        ...,\n",
              "        [   1.7       ,   17.        ,    5.20554273, ...,    2.3256351 ,\n",
              "           39.43      , -121.22      ],\n",
              "        [   1.8672    ,   18.        ,    5.32951289, ...,    2.12320917,\n",
              "           39.43      , -121.32      ],\n",
              "        [   2.3886    ,   16.        ,    5.25471698, ...,    2.61698113,\n",
              "           39.37      , -121.24      ]]),\n",
              " 'target': array([4.526, 3.585, 3.521, ..., 0.923, 0.847, 0.894]),\n",
              " 'frame': None,\n",
              " 'target_names': ['MedHouseVal'],\n",
              " 'feature_names': ['MedInc',\n",
              "  'HouseAge',\n",
              "  'AveRooms',\n",
              "  'AveBedrms',\n",
              "  'Population',\n",
              "  'AveOccup',\n",
              "  'Latitude',\n",
              "  'Longitude'],\n",
              " 'DESCR': '.. _california_housing_dataset:\\n\\nCalifornia Housing dataset\\n--------------------------\\n\\n**Data Set Characteristics:**\\n\\n    :Number of Instances: 20640\\n\\n    :Number of Attributes: 8 numeric, predictive attributes and the target\\n\\n    :Attribute Information:\\n        - MedInc        median income in block group\\n        - HouseAge      median house age in block group\\n        - AveRooms      average number of rooms per household\\n        - AveBedrms     average number of bedrooms per household\\n        - Population    block group population\\n        - AveOccup      average number of household members\\n        - Latitude      block group latitude\\n        - Longitude     block group longitude\\n\\n    :Missing Attribute Values: None\\n\\nThis dataset was obtained from the StatLib repository.\\nhttps://www.dcc.fc.up.pt/~ltorgo/Regression/cal_housing.html\\n\\nThe target variable is the median house value for California districts,\\nexpressed in hundreds of thousands of dollars ($100,000).\\n\\nThis dataset was derived from the 1990 U.S. census, using one row per census\\nblock group. A block group is the smallest geographical unit for which the U.S.\\nCensus Bureau publishes sample data (a block group typically has a population\\nof 600 to 3,000 people).\\n\\nA household is a group of people residing within a home. Since the average\\nnumber of rooms and bedrooms in this dataset are provided per household, these\\ncolumns may take surprisingly large values for block groups with few households\\nand many empty houses, such as vacation resorts.\\n\\nIt can be downloaded/loaded using the\\n:func:`sklearn.datasets.fetch_california_housing` function.\\n\\n.. topic:: References\\n\\n    - Pace, R. Kelley and Ronald Barry, Sparse Spatial Autoregressions,\\n      Statistics and Probability Letters, 33 (1997) 291-297\\n'}"
            ]
          },
          "metadata": {},
          "execution_count": 7
        }
      ]
    },
    {
      "cell_type": "code",
      "source": [
        "# Here we have\n",
        "# Output - target_names': ['MedHouseVal'],\n",
        "# Input - 'feature_names': ['MedInc',\n",
        "  # 'HouseAge',\n",
        "  # 'AveRooms',\n",
        "  # 'AveBedrms',\n",
        "  # 'Population',\n",
        "  # 'AveOccup',\n",
        "  # 'Latitude',\n",
        "  # 'Longitude'],"
      ],
      "metadata": {
        "id": "HSkugN3sf14v"
      },
      "execution_count": null,
      "outputs": []
    },
    {
      "cell_type": "code",
      "source": [
        "from sklearn.model_selection import train_test_split\n",
        "X_train, X_test, y_train, y_test = train_test_split(california['data'], california['target'], test_size=0.33, random_state=42)\n",
        "\n"
      ],
      "metadata": {
        "id": "pGxba-N0g1Dc"
      },
      "execution_count": 8,
      "outputs": []
    },
    {
      "cell_type": "code",
      "source": [
        "scaler = StandardScaler().fit(X_train)\n",
        "X_train = scaler.transform(X_train)\n",
        "X_test =  scaler.transform(X_test)"
      ],
      "metadata": {
        "id": "4Pf9eS7LlF_f"
      },
      "execution_count": 48,
      "outputs": []
    },
    {
      "cell_type": "code",
      "source": [
        "clf =SGDRegressor(loss =\"squared_error\", max_iter=10000)\n",
        "clf.fit(X_train,y_train)\n",
        "y_test_pred_squarederror = clf.predict(X_test)\n",
        "print('Coefficient of determination: ', metrics.r2_score(y_test,y_test_pred_squarederror))"
      ],
      "metadata": {
        "colab": {
          "base_uri": "https://localhost:8080/"
        },
        "id": "xBRnb11LfwJx",
        "outputId": "264fde7b-ef4e-4d61-995d-28264ba962a3"
      },
      "execution_count": 49,
      "outputs": [
        {
          "output_type": "stream",
          "name": "stdout",
          "text": [
            "Coefficient of determination:  0.6005184395914839\n"
          ]
        }
      ]
    },
    {
      "cell_type": "code",
      "source": [
        "clf_huber =SGDRegressor(loss =\"huber\", max_iter=10000)\n",
        "clf_huber.fit(X_train,y_train)\n",
        "y_test_pred_huber = clf_huber.predict(X_test)\n",
        "print('Coefficient of determination: ', metrics.r2_score(y_test,y_test_pred_huber))"
      ],
      "metadata": {
        "colab": {
          "base_uri": "https://localhost:8080/"
        },
        "id": "g7ktwZkvfwMd",
        "outputId": "3a220618-3bee-406b-8b44-b81e6e1b243d"
      },
      "execution_count": 50,
      "outputs": [
        {
          "output_type": "stream",
          "name": "stdout",
          "text": [
            "Coefficient of determination:  0.5600483255520061\n"
          ]
        }
      ]
    },
    {
      "cell_type": "code",
      "source": [
        "clf_epsilon =SGDRegressor(loss =\"epsilon_insensitive\", epsilon= 1, max_iter=10000)\n",
        "clf_epsilon.fit(X_train,y_train)\n",
        "y_test_pred_epsilon = clf_epsilon.predict(X_test)\n",
        "print('Coefficient of determination: ', metrics.r2_score(y_test,y_test_pred_epsilon))"
      ],
      "metadata": {
        "colab": {
          "base_uri": "https://localhost:8080/"
        },
        "id": "vM3zaCeIfwPA",
        "outputId": "c1fd9505-69d2-43f2-d3f6-9de9e8279fb7"
      },
      "execution_count": 53,
      "outputs": [
        {
          "output_type": "stream",
          "name": "stdout",
          "text": [
            "Coefficient of determination:  0.5694281230723778\n"
          ]
        }
      ]
    },
    {
      "cell_type": "code",
      "source": [],
      "metadata": {
        "id": "IN5RzwXqlc_S"
      },
      "execution_count": null,
      "outputs": []
    }
  ]
}