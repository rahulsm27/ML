{
  "nbformat": 4,
  "nbformat_minor": 0,
  "metadata": {
    "colab": {
      "provenance": [],
      "authorship_tag": "ABX9TyPdaMUNTkohUCEhz8vhGrB4",
      "include_colab_link": true
    },
    "kernelspec": {
      "name": "python3",
      "display_name": "Python 3"
    },
    "language_info": {
      "name": "python"
    }
  },
  "cells": [
    {
      "cell_type": "markdown",
      "metadata": {
        "id": "view-in-github",
        "colab_type": "text"
      },
      "source": [
        "<a href=\"https://colab.research.google.com/github/rahulsm27/ML/blob/main/Semantic_Similarity.ipynb\" target=\"_parent\"><img src=\"https://colab.research.google.com/assets/colab-badge.svg\" alt=\"Open In Colab\"/></a>"
      ]
    },
    {
      "cell_type": "code",
      "source": [],
      "metadata": {
        "id": "vKl7AlwR8KBU"
      },
      "execution_count": null,
      "outputs": []
    },
    {
      "cell_type": "code",
      "execution_count": 16,
      "metadata": {
        "colab": {
          "base_uri": "https://localhost:8080/"
        },
        "id": "pYTApj9X7nDo",
        "outputId": "ebcbece3-8e56-464f-f7f0-780a281bfec2"
      },
      "outputs": [
        {
          "output_type": "stream",
          "name": "stderr",
          "text": [
            "[nltk_data] Downloading package punkt to /root/nltk_data...\n",
            "[nltk_data]   Package punkt is already up-to-date!\n"
          ]
        },
        {
          "output_type": "stream",
          "name": "stdout",
          "text": [
            "Document 2: Similarity Score: 0.9834631085395813\n",
            "Document Text: The baby learned to walk in the 5th month itself\n",
            "\n",
            "Document 0: Similarity Score: 0.9460567831993103\n",
            "Document Text: The movie is awesome. It was a good thriller\n",
            "\n",
            "Document 1: Similarity Score: 0.8827896118164062\n",
            "Document Text: We are learning NLP throughg GeeksforGeeks\n",
            "\n"
          ]
        }
      ],
      "source": [
        "from gensim.models.doc2vec import Doc2Vec, TaggedDocument\n",
        "from nltk.tokenize import word_tokenize\n",
        "import nltk\n",
        "nltk.download('punkt')\n",
        "\n",
        "# Sample data\n",
        "data = [\"The movie is awesome. It was a good thriller\",\n",
        "        \"We are learning NLP throughg GeeksforGeeks\",\n",
        "        \"The baby learned to walk in the 5th month itself\"]\n",
        "\n",
        "# Tokenizing the data\n",
        "tokenized_data = [word_tokenize(document.lower()) for document in data]\n",
        "\n",
        "# Creating TaggedDocument objects\n",
        "tagged_data = [TaggedDocument(words=words, tags=[str(idx)]) for idx, words in enumerate(tokenized_data)]\n",
        "\n",
        "\n",
        "# Training the Doc2Vec model\n",
        "model = Doc2Vec(vector_size=100, window=2, min_count=1, workers=4, epochs=1000)\n",
        "model.build_vocab(tagged_data)\n",
        "model.train(tagged_data, total_examples=model.corpus_count, epochs=model.epochs)\n",
        "\n",
        "# Infer vector for a new document\n",
        "new_document = \"The baby was laughing and palying\"\n",
        "inferred_vector = model.infer_vector(word_tokenize(new_document.lower()))\n",
        "\n",
        "# Find most similar documents\n",
        "similar_documents = model.dv.most_similar([inferred_vector], topn=len(model.dv))\n",
        "\n",
        "# Print the most similar documents\n",
        "for index, score in similar_documents:\n",
        "    print(f\"Document {index}: Similarity Score: {score}\")\n",
        "    print(f\"Document Text: {data[int(index)]}\")\n",
        "    print()\n"
      ]
    },
    {
      "cell_type": "code",
      "source": [],
      "metadata": {
        "id": "wFiZooF-9X1z"
      },
      "execution_count": null,
      "outputs": []
    }
  ]
}